{
  "nbformat": 4,
  "nbformat_minor": 0,
  "metadata": {
    "colab": {
      "provenance": []
    },
    "kernelspec": {
      "name": "python3",
      "display_name": "Python 3"
    },
    "language_info": {
      "name": "python"
    }
  },
  "cells": [
    {
      "cell_type": "markdown",
      "source": [
        "##Autoencoders"
      ],
      "metadata": {
        "id": "0CxipbBof-1y"
      }
    },
    {
      "cell_type": "code",
      "source": [
        "# Import libraries\n",
        "import tensorflow as tf\n",
        "from tensorflow import keras\n",
        "from tensorflow.keras import layers\n",
        "import numpy as np\n",
        "import matplotlib.pyplot as plt"
      ],
      "metadata": {
        "id": "vI_uiRu5ZlcU"
      },
      "execution_count": 1,
      "outputs": []
    },
    {
      "cell_type": "code",
      "source": [
        "# Load the MNIST dataset\n",
        "(x_train, _), (x_test, _) = keras.datasets.mnist.load_data()"
      ],
      "metadata": {
        "id": "nGv3dX4_Iv4-",
        "colab": {
          "base_uri": "https://localhost:8080/"
        },
        "outputId": "7fbbddda-c5de-42d7-e482-19c5851e22a1"
      },
      "execution_count": 2,
      "outputs": [
        {
          "output_type": "stream",
          "name": "stdout",
          "text": [
            "Downloading data from https://storage.googleapis.com/tensorflow/tf-keras-datasets/mnist.npz\n",
            "11490434/11490434 [==============================] - 0s 0us/step\n"
          ]
        }
      ]
    },
    {
      "cell_type": "code",
      "source": [
        "# Normalize pixel values between 0 and 1\n",
        "x_train = x_train.astype(\"float32\") / 255.0\n",
        "x_test = x_test.astype(\"float32\") / 255.0"
      ],
      "metadata": {
        "id": "l_U6Kql7I00o"
      },
      "execution_count": 3,
      "outputs": []
    },
    {
      "cell_type": "code",
      "source": [
        "# Reshape the data to a 28x28x1 array\n",
        "x_train = np.reshape(x_train, (len(x_train), 28, 28, 1))\n",
        "x_test = np.reshape(x_test, (len(x_test), 28, 28, 1))"
      ],
      "metadata": {
        "id": "iUWlvRgvI6DO"
      },
      "execution_count": 4,
      "outputs": []
    },
    {
      "cell_type": "code",
      "source": [
        "# Define the encoder architecture\n",
        "encoder_inputs = keras.Input(shape=(28, 28, 1))\n",
        "x = layers.Conv2D(16, 3, activation=\"relu\", padding=\"same\")(encoder_inputs)\n",
        "x = layers.MaxPooling2D(2, padding=\"same\")(x)\n",
        "x = layers.Conv2D(8, 3, activation=\"relu\", padding=\"same\")(x)\n",
        "x = layers.MaxPooling2D(2, padding=\"same\")(x)\n",
        "x = layers.Conv2D(8, 3, activation=\"relu\", padding=\"same\")(x)\n",
        "encoder_outputs = layers.MaxPooling2D(2, padding=\"same\")(x)\n",
        "\n",
        "encoder = keras.Model(encoder_inputs, encoder_outputs, name=\"encoder\")\n",
        "encoder.summary()"
      ],
      "metadata": {
        "id": "KiltpXUAJIeL",
        "colab": {
          "base_uri": "https://localhost:8080/"
        },
        "outputId": "6875267a-d194-4c30-a2c8-e23d9bc3e820"
      },
      "execution_count": 5,
      "outputs": [
        {
          "output_type": "stream",
          "name": "stdout",
          "text": [
            "Model: \"encoder\"\n",
            "_________________________________________________________________\n",
            " Layer (type)                Output Shape              Param #   \n",
            "=================================================================\n",
            " input_1 (InputLayer)        [(None, 28, 28, 1)]       0         \n",
            "                                                                 \n",
            " conv2d (Conv2D)             (None, 28, 28, 16)        160       \n",
            "                                                                 \n",
            " max_pooling2d (MaxPooling2D  (None, 14, 14, 16)       0         \n",
            " )                                                               \n",
            "                                                                 \n",
            " conv2d_1 (Conv2D)           (None, 14, 14, 8)         1160      \n",
            "                                                                 \n",
            " max_pooling2d_1 (MaxPooling  (None, 7, 7, 8)          0         \n",
            " 2D)                                                             \n",
            "                                                                 \n",
            " conv2d_2 (Conv2D)           (None, 7, 7, 8)           584       \n",
            "                                                                 \n",
            " max_pooling2d_2 (MaxPooling  (None, 4, 4, 8)          0         \n",
            " 2D)                                                             \n",
            "                                                                 \n",
            "=================================================================\n",
            "Total params: 1,904\n",
            "Trainable params: 1,904\n",
            "Non-trainable params: 0\n",
            "_________________________________________________________________\n"
          ]
        }
      ]
    },
    {
      "cell_type": "code",
      "source": [
        "# Define the decoder architecture\n",
        "decoder_inputs = keras.Input(shape=(4, 4, 8))\n",
        "x = layers.Conv2D(8, 3, activation=\"relu\", padding=\"same\")(decoder_inputs)\n",
        "x = layers.UpSampling2D(2)(x)\n",
        "x = layers.Conv2D(8, 3, activation=\"relu\", padding=\"same\")(x)\n",
        "x = layers.UpSampling2D(2)(x)\n",
        "x = layers.Conv2D(16, 3, activation=\"relu\")(x)\n",
        "x = layers.UpSampling2D(2)(x)\n",
        "decoder_outputs = layers.Conv2D(1, 3, activation=\"sigmoid\", padding=\"same\")(x)\n",
        "\n",
        "decoder = keras.Model(decoder_inputs, decoder_outputs, name=\"decoder\")\n",
        "decoder.summary()"
      ],
      "metadata": {
        "id": "A6HnW3mXJSbE",
        "colab": {
          "base_uri": "https://localhost:8080/"
        },
        "outputId": "5ac96d5d-527b-489b-f348-23a05b271868"
      },
      "execution_count": 6,
      "outputs": [
        {
          "output_type": "stream",
          "name": "stdout",
          "text": [
            "Model: \"decoder\"\n",
            "_________________________________________________________________\n",
            " Layer (type)                Output Shape              Param #   \n",
            "=================================================================\n",
            " input_2 (InputLayer)        [(None, 4, 4, 8)]         0         \n",
            "                                                                 \n",
            " conv2d_3 (Conv2D)           (None, 4, 4, 8)           584       \n",
            "                                                                 \n",
            " up_sampling2d (UpSampling2D  (None, 8, 8, 8)          0         \n",
            " )                                                               \n",
            "                                                                 \n",
            " conv2d_4 (Conv2D)           (None, 8, 8, 8)           584       \n",
            "                                                                 \n",
            " up_sampling2d_1 (UpSampling  (None, 16, 16, 8)        0         \n",
            " 2D)                                                             \n",
            "                                                                 \n",
            " conv2d_5 (Conv2D)           (None, 14, 14, 16)        1168      \n",
            "                                                                 \n",
            " up_sampling2d_2 (UpSampling  (None, 28, 28, 16)       0         \n",
            " 2D)                                                             \n",
            "                                                                 \n",
            " conv2d_6 (Conv2D)           (None, 28, 28, 1)         145       \n",
            "                                                                 \n",
            "=================================================================\n",
            "Total params: 2,481\n",
            "Trainable params: 2,481\n",
            "Non-trainable params: 0\n",
            "_________________________________________________________________\n"
          ]
        }
      ]
    },
    {
      "cell_type": "code",
      "source": [
        "# Define the autoencoder as a sequential model\n",
        "autoencoder = keras.Sequential([encoder, decoder])\n",
        "autoencoder.compile(optimizer=\"adam\", loss=\"binary_crossentropy\")"
      ],
      "metadata": {
        "id": "PC3nBPUPJU3W"
      },
      "execution_count": 7,
      "outputs": []
    },
    {
      "cell_type": "code",
      "source": [
        "# Train the autoencoder\n",
        "autoencoder.fit(x_train, x_train, epochs=10, batch_size=128, validation_data=(x_test, x_test))"
      ],
      "metadata": {
        "id": "GEWKsfkMJXCV",
        "colab": {
          "base_uri": "https://localhost:8080/"
        },
        "outputId": "1553b7c2-2aae-4ca1-9610-9d7c2b35acf8"
      },
      "execution_count": 8,
      "outputs": [
        {
          "output_type": "stream",
          "name": "stdout",
          "text": [
            "Epoch 1/10\n",
            "469/469 [==============================] - 90s 188ms/step - loss: 0.2126 - val_loss: 0.1414\n",
            "Epoch 2/10\n",
            "469/469 [==============================] - 85s 180ms/step - loss: 0.1318 - val_loss: 0.1232\n",
            "Epoch 3/10\n",
            "469/469 [==============================] - 85s 182ms/step - loss: 0.1201 - val_loss: 0.1159\n",
            "Epoch 4/10\n",
            "469/469 [==============================] - 83s 177ms/step - loss: 0.1144 - val_loss: 0.1114\n",
            "Epoch 5/10\n",
            "469/469 [==============================] - 87s 186ms/step - loss: 0.1107 - val_loss: 0.1082\n",
            "Epoch 6/10\n",
            "469/469 [==============================] - 89s 189ms/step - loss: 0.1081 - val_loss: 0.1064\n",
            "Epoch 7/10\n",
            "469/469 [==============================] - 84s 178ms/step - loss: 0.1061 - val_loss: 0.1041\n",
            "Epoch 8/10\n",
            "469/469 [==============================] - 85s 182ms/step - loss: 0.1044 - val_loss: 0.1027\n",
            "Epoch 9/10\n",
            "469/469 [==============================] - 83s 176ms/step - loss: 0.1032 - val_loss: 0.1013\n",
            "Epoch 10/10\n",
            "469/469 [==============================] - 83s 177ms/step - loss: 0.1021 - val_loss: 0.1005\n"
          ]
        },
        {
          "output_type": "execute_result",
          "data": {
            "text/plain": [
              "<keras.callbacks.History at 0x7fa528f084c0>"
            ]
          },
          "metadata": {},
          "execution_count": 8
        }
      ]
    },
    {
      "cell_type": "code",
      "source": [
        "# Encode and decode the test images\n",
        "encoded_imgs = encoder.predict(x_test)\n",
        "decoded_imgs = autoencoder.predict(x_test)"
      ],
      "metadata": {
        "id": "WefLAWHpJZBX",
        "colab": {
          "base_uri": "https://localhost:8080/"
        },
        "outputId": "0143d5e9-9d73-47dd-926a-d8a69ca62d3f"
      },
      "execution_count": 9,
      "outputs": [
        {
          "output_type": "stream",
          "name": "stdout",
          "text": [
            "313/313 [==============================] - 3s 11ms/step\n",
            "313/313 [==============================] - 4s 14ms/step\n"
          ]
        }
      ]
    },
    {
      "cell_type": "code",
      "source": [
        "# Display the original and reconstructed images\n",
        "n = 10  # Number of images to display\n",
        "plt.figure(figsize=(20, 4))\n",
        "for i in range(n):\n",
        "    # Display original image\n",
        "    ax = plt.subplot(2, n, i + 1)\n",
        "    plt.imshow(x_test[i].reshape(28, 28))\n",
        "    plt.gray()\n",
        "    ax.get_xaxis().set_visible(False)\n",
        "    ax.get_yaxis().set_visible(False)\n",
        "\n",
        "    # Display reconstructed image\n",
        "    ax = plt.subplot(2, n, i + 1 + n)\n",
        "    plt.imshow(decoded_imgs[i].reshape(28, 28))\n",
        "    plt.gray()\n",
        "    ax.get_xaxis().set_visible(False)\n",
        "    ax.get_yaxis().set_visible(False)\n",
        "plt.show()"
      ],
      "metadata": {
        "id": "I5J4S-KaJAlg",
        "colab": {
          "base_uri": "https://localhost:8080/",
          "height": 305
        },
        "outputId": "6cf4b7d6-b466-48f1-dacc-f623d4700271"
      },
      "execution_count": 10,
      "outputs": [
        {
          "output_type": "display_data",
          "data": {
            "text/plain": [
              "<Figure size 2000x400 with 20 Axes>"
            ],
            "image/png": "[encoded data removed]"
          },
          "metadata": {}
        }
      ]
    },
    {
      "cell_type": "markdown",
      "source": [
        "##Vannilla Encoders"
      ],
      "metadata": {
        "id": "SmkxLo_mgHjm"
      }
    },
    {
      "cell_type": "code",
      "source": [
        "# importing libraries\n",
        "import numpy as np\n",
        "import matplotlib.pyplot as plt\n",
        "from tensorflow import keras"
      ],
      "metadata": {
        "id": "fsC-LN7bZnDw"
      },
      "execution_count": 16,
      "outputs": []
    },
    {
      "cell_type": "code",
      "source": [
        "# Load the MNIST dataset\n",
        "(x_train, _), (x_test, _) = keras.datasets.mnist.load_data()"
      ],
      "metadata": {
        "id": "eRVYQtvXJis1"
      },
      "execution_count": 17,
      "outputs": []
    },
    {
      "cell_type": "code",
      "source": [
        "# Normalize the pixel values\n",
        "x_train = x_train.astype('float32') / 255.\n",
        "x_test = x_test.astype('float32') / 255."
      ],
      "metadata": {
        "id": "5noErqadJk0i"
      },
      "execution_count": 18,
      "outputs": []
    },
    {
      "cell_type": "code",
      "source": [
        "# Reshape the input data to a vector\n",
        "x_train = x_train.reshape((len(x_train), np.prod(x_train.shape[1:])))\n",
        "x_test = x_test.reshape((len(x_test), np.prod(x_test.shape[1:])))"
      ],
      "metadata": {
        "id": "MIVnj_x0JnGJ"
      },
      "execution_count": 19,
      "outputs": []
    },
    {
      "cell_type": "code",
      "source": [
        "# architecture of vanilla encoders\n",
        "input_dim = x_train.shape[1]\n",
        "\n",
        "# Encoder network\n",
        "encoder = keras.Sequential([\n",
        "    keras.layers.Dense(128, activation='relu', input_shape=(input_dim,)),\n",
        "    keras.layers.Dense(64, activation='relu'),\n",
        "    keras.layers.Dense(32, activation='relu')\n",
        "])\n",
        "\n",
        "# Decoder network\n",
        "decoder = keras.Sequential([\n",
        "    keras.layers.Dense(64, activation='relu', input_shape=(32,)),\n",
        "    keras.layers.Dense(128, activation='relu'),\n",
        "    keras.layers.Dense(input_dim, activation='sigmoid')\n",
        "])"
      ],
      "metadata": {
        "id": "cLUpfJKTgBGw"
      },
      "execution_count": 20,
      "outputs": []
    },
    {
      "cell_type": "code",
      "source": [
        "# Autoencoder model\n",
        "autoencoder = keras.Sequential([encoder, decoder])"
      ],
      "metadata": {
        "id": "BRZagRD5JuHG"
      },
      "execution_count": 21,
      "outputs": []
    },
    {
      "cell_type": "code",
      "source": [
        "autoencoder.compile(optimizer='adam', loss='binary_crossentropy')\n",
        "history = autoencoder.fit(x_train, x_train,\n",
        "                          epochs=50,\n",
        "                          batch_size=256,\n",
        "                          shuffle=True,\n",
        "                          validation_data=(x_test, x_test))"
      ],
      "metadata": {
        "colab": {
          "base_uri": "https://localhost:8080/"
        },
        "id": "vwczJMoWgRJs",
        "outputId": "08013b2f-a255-4987-b42f-2c77dc36add1"
      },
      "execution_count": 22,
      "outputs": [
        {
          "output_type": "stream",
          "name": "stdout",
          "text": [
            "Epoch 1/50\n",
            "235/235 [==============================] - 5s 18ms/step - loss: 0.2461 - val_loss: 0.1666\n",
            "Epoch 2/50\n",
            "235/235 [==============================] - 5s 22ms/step - loss: 0.1512 - val_loss: 0.1384\n",
            "Epoch 3/50\n",
            "235/235 [==============================] - 4s 17ms/step - loss: 0.1322 - val_loss: 0.1241\n",
            "Epoch 4/50\n",
            "235/235 [==============================] - 4s 17ms/step - loss: 0.1209 - val_loss: 0.1155\n",
            "Epoch 5/50\n",
            "235/235 [==============================] - 5s 22ms/step - loss: 0.1143 - val_loss: 0.1105\n",
            "Epoch 6/50\n",
            "235/235 [==============================] - 4s 17ms/step - loss: 0.1104 - val_loss: 0.1075\n",
            "Epoch 7/50\n",
            "235/235 [==============================] - 4s 19ms/step - loss: 0.1076 - val_loss: 0.1056\n",
            "Epoch 8/50\n",
            "235/235 [==============================] - 5s 21ms/step - loss: 0.1051 - val_loss: 0.1028\n",
            "Epoch 9/50\n",
            "235/235 [==============================] - 4s 17ms/step - loss: 0.1029 - val_loss: 0.1011\n",
            "Epoch 10/50\n",
            "235/235 [==============================] - 5s 20ms/step - loss: 0.1014 - val_loss: 0.0995\n",
            "Epoch 11/50\n",
            "235/235 [==============================] - 5s 19ms/step - loss: 0.1001 - val_loss: 0.0985\n",
            "Epoch 12/50\n",
            "235/235 [==============================] - 4s 17ms/step - loss: 0.0990 - val_loss: 0.0973\n",
            "Epoch 13/50\n",
            "235/235 [==============================] - 5s 23ms/step - loss: 0.0981 - val_loss: 0.0966\n",
            "Epoch 14/50\n",
            "235/235 [==============================] - 4s 18ms/step - loss: 0.0972 - val_loss: 0.0957\n",
            "Epoch 15/50\n",
            "235/235 [==============================] - 4s 17ms/step - loss: 0.0962 - val_loss: 0.0946\n",
            "Epoch 16/50\n",
            "235/235 [==============================] - 5s 23ms/step - loss: 0.0953 - val_loss: 0.0940\n",
            "Epoch 17/50\n",
            "235/235 [==============================] - 4s 18ms/step - loss: 0.0946 - val_loss: 0.0933\n",
            "Epoch 18/50\n",
            "235/235 [==============================] - 4s 18ms/step - loss: 0.0938 - val_loss: 0.0924\n",
            "Epoch 19/50\n",
            "235/235 [==============================] - 5s 23ms/step - loss: 0.0931 - val_loss: 0.0919\n",
            "Epoch 20/50\n",
            "235/235 [==============================] - 4s 17ms/step - loss: 0.0924 - val_loss: 0.0913\n",
            "Epoch 21/50\n",
            "235/235 [==============================] - 4s 18ms/step - loss: 0.0917 - val_loss: 0.0906\n",
            "Epoch 22/50\n",
            "235/235 [==============================] - 5s 22ms/step - loss: 0.0912 - val_loss: 0.0903\n",
            "Epoch 23/50\n",
            "235/235 [==============================] - 4s 17ms/step - loss: 0.0907 - val_loss: 0.0900\n",
            "Epoch 24/50\n",
            "235/235 [==============================] - 4s 18ms/step - loss: 0.0903 - val_loss: 0.0893\n",
            "Epoch 25/50\n",
            "235/235 [==============================] - 5s 23ms/step - loss: 0.0899 - val_loss: 0.0891\n",
            "Epoch 26/50\n",
            "235/235 [==============================] - 4s 17ms/step - loss: 0.0896 - val_loss: 0.0891\n",
            "Epoch 27/50\n",
            "235/235 [==============================] - 5s 19ms/step - loss: 0.0892 - val_loss: 0.0885\n",
            "Epoch 28/50\n",
            "235/235 [==============================] - 5s 20ms/step - loss: 0.0889 - val_loss: 0.0883\n",
            "Epoch 29/50\n",
            "235/235 [==============================] - 4s 17ms/step - loss: 0.0886 - val_loss: 0.0878\n",
            "Epoch 30/50\n",
            "235/235 [==============================] - 5s 21ms/step - loss: 0.0883 - val_loss: 0.0876\n",
            "Epoch 31/50\n",
            "235/235 [==============================] - 4s 19ms/step - loss: 0.0881 - val_loss: 0.0873\n",
            "Epoch 32/50\n",
            "235/235 [==============================] - 4s 17ms/step - loss: 0.0878 - val_loss: 0.0869\n",
            "Epoch 33/50\n",
            "235/235 [==============================] - 5s 22ms/step - loss: 0.0876 - val_loss: 0.0867\n",
            "Epoch 34/50\n",
            "235/235 [==============================] - 4s 17ms/step - loss: 0.0873 - val_loss: 0.0866\n",
            "Epoch 35/50\n",
            "235/235 [==============================] - 4s 17ms/step - loss: 0.0871 - val_loss: 0.0865\n",
            "Epoch 36/50\n",
            "235/235 [==============================] - 5s 23ms/step - loss: 0.0868 - val_loss: 0.0861\n",
            "Epoch 37/50\n",
            "235/235 [==============================] - 4s 18ms/step - loss: 0.0866 - val_loss: 0.0861\n",
            "Epoch 38/50\n",
            "235/235 [==============================] - 4s 17ms/step - loss: 0.0865 - val_loss: 0.0858\n",
            "Epoch 39/50\n",
            "235/235 [==============================] - 5s 23ms/step - loss: 0.0863 - val_loss: 0.0856\n",
            "Epoch 40/50\n",
            "235/235 [==============================] - 4s 17ms/step - loss: 0.0861 - val_loss: 0.0854\n",
            "Epoch 41/50\n",
            "235/235 [==============================] - 4s 17ms/step - loss: 0.0860 - val_loss: 0.0854\n",
            "Epoch 42/50\n",
            "235/235 [==============================] - 5s 22ms/step - loss: 0.0858 - val_loss: 0.0854\n",
            "Epoch 43/50\n",
            "235/235 [==============================] - 4s 17ms/step - loss: 0.0856 - val_loss: 0.0851\n",
            "Epoch 44/50\n",
            "235/235 [==============================] - 4s 18ms/step - loss: 0.0855 - val_loss: 0.0848\n",
            "Epoch 45/50\n",
            "235/235 [==============================] - 5s 22ms/step - loss: 0.0853 - val_loss: 0.0849\n",
            "Epoch 46/50\n",
            "235/235 [==============================] - 4s 17ms/step - loss: 0.0852 - val_loss: 0.0848\n",
            "Epoch 47/50\n",
            "235/235 [==============================] - 4s 19ms/step - loss: 0.0850 - val_loss: 0.0846\n",
            "Epoch 48/50\n",
            "235/235 [==============================] - 5s 21ms/step - loss: 0.0849 - val_loss: 0.0845\n",
            "Epoch 49/50\n",
            "235/235 [==============================] - 4s 17ms/step - loss: 0.0848 - val_loss: 0.0848\n",
            "Epoch 50/50\n",
            "235/235 [==============================] - 5s 20ms/step - loss: 0.0847 - val_loss: 0.0843\n"
          ]
        }
      ]
    },
    {
      "cell_type": "code",
      "source": [
        "# Compressed representation of test data\n",
        "compressed_data = encoder.predict(x_test)"
      ],
      "metadata": {
        "colab": {
          "base_uri": "https://localhost:8080/"
        },
        "id": "Zzh7X6kVgbbW",
        "outputId": "b9dbbfa4-9d83-44fc-c5c0-e9480f2e6655"
      },
      "execution_count": 23,
      "outputs": [
        {
          "output_type": "stream",
          "name": "stdout",
          "text": [
            "313/313 [==============================] - 1s 2ms/step\n"
          ]
        }
      ]
    },
    {
      "cell_type": "code",
      "source": [
        "# Reconstructed test data\n",
        "reconstructed_data = decoder.predict(compressed_data)"
      ],
      "metadata": {
        "id": "S0qrWGl-Jzzk",
        "colab": {
          "base_uri": "https://localhost:8080/"
        },
        "outputId": "749fe04b-1757-4e84-e5fa-109fae386ef8"
      },
      "execution_count": 24,
      "outputs": [
        {
          "output_type": "stream",
          "name": "stdout",
          "text": [
            "313/313 [==============================] - 1s 2ms/step\n"
          ]
        }
      ]
    },
    {
      "cell_type": "code",
      "source": [
        "# Display the original test data and the reconstructed data\n",
        "n = 10  # Number of digits to display\n",
        "plt.figure(figsize=(20, 4))\n",
        "for i in range(n):\n",
        "    # Original image\n",
        "    ax = plt.subplot(2, n, i+1)\n",
        "    plt.imshow(x_test[i].reshape(28, 28))\n",
        "    plt.gray()\n",
        "    ax.get_xaxis().set_visible(False)\n",
        "    ax.get_yaxis().set_visible(False)\n",
        "\n",
        "    # Reconstructed image\n",
        "    ax = plt.subplot(2, n, i+n+1)\n",
        "    plt.imshow(reconstructed_data[i].reshape(28, 28))\n",
        "    plt.gray()"
      ],
      "metadata": {
        "id": "gqioDr49J2KU",
        "colab": {
          "base_uri": "https://localhost:8080/",
          "height": 321
        },
        "outputId": "446e01bd-2023-4fd9-d902-7fc7000a2c8b"
      },
      "execution_count": 25,
      "outputs": [
        {
          "output_type": "display_data",
          "data": {
            "text/plain": [
              "<Figure size 2000x400 with 20 Axes>"
            ],
            "image/png": "[encoded data removed]"
          },
          "metadata": {}
        }
      ]
    },
    {
      "cell_type": "markdown",
      "source": [
        "##Denoising encoder"
      ],
      "metadata": {
        "id": "-aBUFoxKhR_Q"
      }
    },
    {
      "cell_type": "code",
      "source": [
        "# importing library\n",
        "import numpy as np\n",
        "from tensorflow import keras"
      ],
      "metadata": {
        "id": "U1O9BOVbhTs0"
      },
      "execution_count": 26,
      "outputs": []
    },
    {
      "cell_type": "code",
      "source": [
        "# Load MNIST dataset\n",
        "(x_train, _), (x_test, _) = keras.datasets.mnist.load_data()"
      ],
      "metadata": {
        "id": "JigJhHpuJ9RK"
      },
      "execution_count": 27,
      "outputs": []
    },
    {
      "cell_type": "code",
      "source": [
        "# Normalize pixel values between 0 and 1\n",
        "x_train = x_train.astype('float32') / 255.\n",
        "x_test = x_test.astype('float32') / 255."
      ],
      "metadata": {
        "id": "indMEQR7J_SF"
      },
      "execution_count": 28,
      "outputs": []
    },
    {
      "cell_type": "code",
      "source": [
        "# Flatten images into a vector\n",
        "x_train = x_train.reshape((len(x_train), np.prod(x_train.shape[1:])))\n",
        "x_test = x_test.reshape((len(x_test), np.prod(x_test.shape[1:])))"
      ],
      "metadata": {
        "id": "BrtZ6wbLKBig"
      },
      "execution_count": 29,
      "outputs": []
    },
    {
      "cell_type": "code",
      "source": [
        "# Add noise to input data\n",
        "noise_factor = 0.5\n",
        "x_train_noisy = x_train + noise_factor * np.random.normal(loc=0.0, scale=1.0, size=x_train.shape)\n",
        "x_test_noisy = x_test + noise_factor * np.random.normal(loc=0.0, scale=1.0, size=x_test.shape)\n",
        "\n",
        "# Clip values to between 0 and 1\n",
        "x_train_noisy = np.clip(x_train_noisy, 0., 1.)\n",
        "x_test_noisy = np.clip(x_test_noisy, 0., 1.)"
      ],
      "metadata": {
        "id": "a3jyPtqMhZuG"
      },
      "execution_count": 30,
      "outputs": []
    },
    {
      "cell_type": "code",
      "source": [
        "from tensorflow.keras.layers import Input, Dense\n",
        "from tensorflow.keras.models import Model\n",
        "\n",
        "# Define input layer\n",
        "input_img = Input(shape=(784,))\n",
        "\n",
        "# Define encoding layers\n",
        "encoded = Dense(128, activation='relu')(input_img)\n",
        "encoded = Dense(64, activation='relu')(encoded)\n",
        "encoded = Dense(32, activation='relu')(encoded)\n",
        "\n",
        "# Define decoding layers\n",
        "decoded = Dense(64, activation='relu')(encoded)\n",
        "decoded = Dense(128, activation='relu')(decoded)\n",
        "decoded = Dense(784, activation='sigmoid')(decoded)\n",
        "\n",
        "# Define autoencoder model\n",
        "autoencoder = Model(input_img, decoded)\n",
        "\n",
        "# Compile model\n",
        "autoencoder.compile(optimizer='adam', loss='binary_crossentropy')\n",
        "\n",
        "# Train model\n",
        "history = autoencoder.fit(x_train_noisy, x_train,\n",
        "                epochs=50,\n",
        "                batch_size=256,\n",
        "                shuffle=True,\n",
        "                validation_data=(x_test_noisy, x_test))\n"
      ],
      "metadata": {
        "colab": {
          "base_uri": "https://localhost:8080/"
        },
        "id": "SOdnWu9chcmp",
        "outputId": "5c87ea60-49b0-4f17-855a-d170e29ef767"
      },
      "execution_count": 31,
      "outputs": [
        {
          "output_type": "stream",
          "name": "stdout",
          "text": [
            "Epoch 1/50\n",
            "235/235 [==============================] - 7s 24ms/step - loss: 0.2565 - val_loss: 0.1958\n",
            "Epoch 2/50\n",
            "235/235 [==============================] - 4s 18ms/step - loss: 0.1830 - val_loss: 0.1712\n",
            "Epoch 3/50\n",
            "235/235 [==============================] - 4s 19ms/step - loss: 0.1655 - val_loss: 0.1585\n",
            "Epoch 4/50\n",
            "235/235 [==============================] - 5s 23ms/step - loss: 0.1554 - val_loss: 0.1508\n",
            "Epoch 5/50\n",
            "235/235 [==============================] - 4s 18ms/step - loss: 0.1489 - val_loss: 0.1450\n",
            "Epoch 6/50\n",
            "235/235 [==============================] - 4s 18ms/step - loss: 0.1444 - val_loss: 0.1417\n",
            "Epoch 7/50\n",
            "235/235 [==============================] - 5s 23ms/step - loss: 0.1412 - val_loss: 0.1390\n",
            "Epoch 8/50\n",
            "235/235 [==============================] - 4s 18ms/step - loss: 0.1386 - val_loss: 0.1366\n",
            "Epoch 9/50\n",
            "235/235 [==============================] - 5s 20ms/step - loss: 0.1361 - val_loss: 0.1344\n",
            "Epoch 10/50\n",
            "235/235 [==============================] - 5s 20ms/step - loss: 0.1338 - val_loss: 0.1326\n",
            "Epoch 11/50\n",
            "235/235 [==============================] - 4s 18ms/step - loss: 0.1320 - val_loss: 0.1307\n",
            "Epoch 12/50\n",
            "235/235 [==============================] - 5s 22ms/step - loss: 0.1306 - val_loss: 0.1298\n",
            "Epoch 13/50\n",
            "235/235 [==============================] - 4s 18ms/step - loss: 0.1292 - val_loss: 0.1283\n",
            "Epoch 14/50\n",
            "235/235 [==============================] - 4s 17ms/step - loss: 0.1283 - val_loss: 0.1275\n",
            "Epoch 15/50\n",
            "235/235 [==============================] - 5s 23ms/step - loss: 0.1273 - val_loss: 0.1269\n",
            "Epoch 16/50\n",
            "235/235 [==============================] - 4s 18ms/step - loss: 0.1265 - val_loss: 0.1260\n",
            "Epoch 17/50\n",
            "235/235 [==============================] - 4s 18ms/step - loss: 0.1258 - val_loss: 0.1255\n",
            "Epoch 18/50\n",
            "235/235 [==============================] - 5s 23ms/step - loss: 0.1250 - val_loss: 0.1248\n",
            "Epoch 19/50\n",
            "235/235 [==============================] - 4s 17ms/step - loss: 0.1242 - val_loss: 0.1243\n",
            "Epoch 20/50\n",
            "235/235 [==============================] - 4s 18ms/step - loss: 0.1237 - val_loss: 0.1235\n",
            "Epoch 21/50\n",
            "235/235 [==============================] - 5s 23ms/step - loss: 0.1230 - val_loss: 0.1230\n",
            "Epoch 22/50\n",
            "235/235 [==============================] - 4s 18ms/step - loss: 0.1224 - val_loss: 0.1228\n",
            "Epoch 23/50\n",
            "235/235 [==============================] - 4s 18ms/step - loss: 0.1220 - val_loss: 0.1222\n",
            "Epoch 24/50\n",
            "235/235 [==============================] - 5s 23ms/step - loss: 0.1214 - val_loss: 0.1216\n",
            "Epoch 25/50\n",
            "235/235 [==============================] - 4s 17ms/step - loss: 0.1210 - val_loss: 0.1217\n",
            "Epoch 26/50\n",
            "235/235 [==============================] - 5s 20ms/step - loss: 0.1206 - val_loss: 0.1217\n",
            "Epoch 27/50\n",
            "235/235 [==============================] - 5s 21ms/step - loss: 0.1203 - val_loss: 0.1207\n",
            "Epoch 28/50\n",
            "235/235 [==============================] - 4s 18ms/step - loss: 0.1198 - val_loss: 0.1204\n",
            "Epoch 29/50\n",
            "235/235 [==============================] - 5s 23ms/step - loss: 0.1193 - val_loss: 0.1201\n",
            "Epoch 30/50\n",
            "235/235 [==============================] - 4s 18ms/step - loss: 0.1189 - val_loss: 0.1198\n",
            "Epoch 31/50\n",
            "235/235 [==============================] - 4s 18ms/step - loss: 0.1186 - val_loss: 0.1197\n",
            "Epoch 32/50\n",
            "235/235 [==============================] - 5s 23ms/step - loss: 0.1182 - val_loss: 0.1199\n",
            "Epoch 33/50\n",
            "235/235 [==============================] - 4s 18ms/step - loss: 0.1179 - val_loss: 0.1193\n",
            "Epoch 34/50\n",
            "235/235 [==============================] - 4s 18ms/step - loss: 0.1177 - val_loss: 0.1187\n",
            "Epoch 35/50\n",
            "235/235 [==============================] - 5s 23ms/step - loss: 0.1173 - val_loss: 0.1184\n",
            "Epoch 36/50\n",
            "235/235 [==============================] - 4s 18ms/step - loss: 0.1172 - val_loss: 0.1183\n",
            "Epoch 37/50\n",
            "235/235 [==============================] - 4s 18ms/step - loss: 0.1169 - val_loss: 0.1179\n",
            "Epoch 38/50\n",
            "235/235 [==============================] - 5s 23ms/step - loss: 0.1166 - val_loss: 0.1176\n",
            "Epoch 39/50\n",
            "235/235 [==============================] - 4s 18ms/step - loss: 0.1164 - val_loss: 0.1179\n",
            "Epoch 40/50\n",
            "235/235 [==============================] - 4s 19ms/step - loss: 0.1162 - val_loss: 0.1179\n",
            "Epoch 41/50\n",
            "235/235 [==============================] - 5s 21ms/step - loss: 0.1159 - val_loss: 0.1175\n",
            "Epoch 42/50\n",
            "235/235 [==============================] - 4s 18ms/step - loss: 0.1158 - val_loss: 0.1171\n",
            "Epoch 43/50\n",
            "235/235 [==============================] - 5s 22ms/step - loss: 0.1156 - val_loss: 0.1171\n",
            "Epoch 44/50\n",
            "235/235 [==============================] - 4s 18ms/step - loss: 0.1155 - val_loss: 0.1175\n",
            "Epoch 45/50\n",
            "235/235 [==============================] - 4s 18ms/step - loss: 0.1153 - val_loss: 0.1169\n",
            "Epoch 46/50\n",
            "235/235 [==============================] - 5s 23ms/step - loss: 0.1151 - val_loss: 0.1169\n",
            "Epoch 47/50\n",
            "235/235 [==============================] - 4s 18ms/step - loss: 0.1150 - val_loss: 0.1170\n",
            "Epoch 48/50\n",
            "235/235 [==============================] - 4s 18ms/step - loss: 0.1149 - val_loss: 0.1170\n",
            "Epoch 49/50\n",
            "235/235 [==============================] - 5s 23ms/step - loss: 0.1147 - val_loss: 0.1165\n",
            "Epoch 50/50\n",
            "235/235 [==============================] - 4s 18ms/step - loss: 0.1146 - val_loss: 0.1165\n"
          ]
        }
      ]
    },
    {
      "cell_type": "code",
      "source": [
        "# Use the trained autoencoder for denoising\n",
        "decoded_imgs = autoencoder.predict(x_test_noisy)\n",
        "\n",
        "# Display original images and reconstructed images\n",
        "import matplotlib.pyplot as plt\n",
        "\n",
        "n = 10  # Number of images to display\n",
        "plt.figure(figsize=(20, 4))\n",
        "for i in range(n):\n",
        "    # Display original images\n",
        "    ax = plt.subplot(2, n, i + 1)\n",
        "    plt.imshow(x_test_noisy[i].reshape(28, 28))\n",
        "    plt.gray()\n",
        "    ax.get_xaxis().set_visible(False)\n",
        "    ax.get_yaxis().set_visible(False)\n",
        "\n",
        "plt.show()"
      ],
      "metadata": {
        "colab": {
          "base_uri": "https://localhost:8080/",
          "height": 170
        },
        "id": "Z0xJ9oTLhesX",
        "outputId": "363b6920-01f2-432c-d50b-307151adf29e"
      },
      "execution_count": 32,
      "outputs": [
        {
          "output_type": "stream",
          "name": "stdout",
          "text": [
            "313/313 [==============================] - 1s 3ms/step\n"
          ]
        },
        {
          "output_type": "display_data",
          "data": {
            "text/plain": [
              "<Figure size 2000x400 with 10 Axes>"
            ],
            "image/png": "[encoded data removed]"
          },
          "metadata": {}
        }
      ]
    },
    {
      "cell_type": "markdown",
      "source": [
        "##Convolution Encoder"
      ],
      "metadata": {
        "id": "ryWHod2sifTy"
      }
    },
    {
      "cell_type": "code",
      "source": [
        "# Import libraries and load MNIST dataset\n",
        "from tensorflow import keras\n",
        "from tensorflow.keras import layers\n",
        "\n",
        "(x_train, _), (x_test, _) = keras.datasets.mnist.load_data()\n",
        "\n",
        "# Normalize pixel values and add channel dimension\n",
        "x_train = x_train.astype('float32') / 255.\n",
        "x_test = x_test.astype('float32') / 255.\n",
        "x_train = x_train.reshape(x_train.shape + (1,))\n",
        "x_test = x_test.reshape(x_test.shape + (1,))\n",
        "\n",
        "# Define the CAE architecture\n",
        "input_img = keras.Input(shape=(28, 28, 1))\n",
        "\n",
        "# Encoder\n",
        "x = layers.Conv2D(16, (3, 3), activation='relu', padding='same')(input_img)\n",
        "x = layers.MaxPooling2D((2, 2), padding='same')(x)\n",
        "x = layers.Conv2D(8, (3, 3), activation='relu', padding='same')(x)\n",
        "x = layers.MaxPooling2D((2, 2), padding='same')(x)\n",
        "x = layers.Conv2D(8, (3, 3), activation='relu', padding='same')(x)\n",
        "encoded = layers.MaxPooling2D((2, 2), padding='same')(x)\n",
        "\n",
        "# Decoder\n",
        "x = layers.Conv2D(8, (3, 3), activation='relu', padding='same')(encoded)\n",
        "x = layers.UpSampling2D((2, 2))(x)\n",
        "x = layers.Conv2D(8, (3, 3), activation='relu', padding='same')(x)\n",
        "x = layers.UpSampling2D((2, 2))(x)\n",
        "x = layers.Conv2D(16, (3, 3), activation='relu')(x)\n",
        "x = layers.UpSampling2D((2, 2))(x)\n",
        "decoded = layers.Conv2D(1, (3, 3), activation='sigmoid', padding='same')(x)\n",
        "\n",
        "# Compile the model\n",
        "autoencoder = keras.Model(input_img, decoded)\n",
        "autoencoder.compile(optimizer='adam', loss='binary_crossentropy')\n",
        "\n",
        "# Train the model\n",
        "autoencoder.fit(x_train, x_train, epochs=10, batch_size=128, shuffle=True, validation_data=(x_test, x_test))\n",
        "\n",
        "# Use the trained autoencoder for compression and reconstruction\n",
        "decoded_imgs = autoencoder.predict(x_test)\n",
        "\n",
        "# Display original images and reconstructed images\n",
        "import matplotlib.pyplot as plt\n",
        "\n",
        "n = 10  # Number of images to display\n",
        "plt.figure(figsize=(20, 4))\n",
        "for i in range(n):\n",
        "    # Display original images\n",
        "    ax = plt.subplot(2, n, i + 1)\n",
        "    plt.imshow(x_test[i].reshape(28, 28))\n",
        "    plt.gray()\n",
        "    ax.get_xaxis().set_visible(False)\n",
        "    ax.get_yaxis().set_visible(False)\n",
        "\n",
        "    # Display reconstructed images\n",
        "    ax = plt.subplot(2, n, i + n + 1)\n",
        "    plt.imshow(decoded_imgs[i].reshape(28, 28))\n",
        "    plt.gray()\n",
        "    ax.get_xaxis().set_visible(False)\n",
        "    ax.get_yaxis().set_visible(False)\n",
        "plt.show()\n"
      ],
      "metadata": {
        "colab": {
          "base_uri": "https://localhost:8080/",
          "height": 669
        },
        "id": "SQJHi9X3hjzp",
        "outputId": "3b46155f-f13f-4f64-f78e-a82cd893ddb9"
      },
      "execution_count": 33,
      "outputs": [
        {
          "output_type": "stream",
          "name": "stdout",
          "text": [
            "Epoch 1/10\n",
            "469/469 [==============================] - 83s 175ms/step - loss: 0.2155 - val_loss: 0.1456\n",
            "Epoch 2/10\n",
            "469/469 [==============================] - 82s 175ms/step - loss: 0.1339 - val_loss: 0.1241\n",
            "Epoch 3/10\n",
            "469/469 [==============================] - 81s 174ms/step - loss: 0.1209 - val_loss: 0.1161\n",
            "Epoch 4/10\n",
            "469/469 [==============================] - 85s 181ms/step - loss: 0.1148 - val_loss: 0.1120\n",
            "Epoch 5/10\n",
            "469/469 [==============================] - 84s 178ms/step - loss: 0.1112 - val_loss: 0.1096\n",
            "Epoch 6/10\n",
            "469/469 [==============================] - 82s 175ms/step - loss: 0.1085 - val_loss: 0.1065\n",
            "Epoch 7/10\n",
            "469/469 [==============================] - 83s 178ms/step - loss: 0.1066 - val_loss: 0.1049\n",
            "Epoch 8/10\n",
            "469/469 [==============================] - 81s 173ms/step - loss: 0.1052 - val_loss: 0.1038\n",
            "Epoch 9/10\n",
            "469/469 [==============================] - 81s 174ms/step - loss: 0.1039 - val_loss: 0.1022\n",
            "Epoch 10/10\n",
            "469/469 [==============================] - 83s 177ms/step - loss: 0.1029 - val_loss: 0.1013\n",
            "313/313 [==============================] - 4s 13ms/step\n"
          ]
        },
        {
          "output_type": "display_data",
          "data": {
            "text/plain": [
              "<Figure size 2000x400 with 20 Axes>"
            ],
            "image/png": "[encoded data removed]"
          },
          "metadata": {}
        }
      ]
    },
    {
      "cell_type": "markdown",
      "source": [
        "##Recurrent Encoder"
      ],
      "metadata": {
        "id": "Yaf06iDKK2jO"
      }
    },
    {
      "cell_type": "code",
      "source": [
        "import numpy as np\n",
        "from tensorflow import keras\n",
        "\n",
        "# Load the MNIST dataset\n",
        "(x_train, _), (x_test, _) = keras.datasets.mnist.load_data()\n",
        "\n",
        "# Normalize the data\n",
        "x_train = x_train.astype('float32') / 255.\n",
        "x_test = x_test.astype('float32') / 255.\n",
        "\n",
        "# Reshape the data to a 3D tensor\n",
        "x_train = np.reshape(x_train, (len(x_train), 28, 28))\n",
        "x_test = np.reshape(x_test, (len(x_test), 28, 28))"
      ],
      "metadata": {
        "id": "NYDingqgM6PZ"
      },
      "execution_count": 34,
      "outputs": []
    },
    {
      "cell_type": "code",
      "source": [
        "from tensorflow.keras.layers import Input, LSTM, RepeatVector, TimeDistributed\n",
        "from tensorflow.keras.models import Model\n",
        "\n",
        "# Define the input shape\n",
        "input_shape = (28, 28)\n",
        "\n",
        "# Define the encoder model\n",
        "inputs = Input(shape=input_shape)\n",
        "encoded = LSTM(64, activation='relu')(inputs)\n",
        "\n",
        "# Define the decoder model\n",
        "decoded = RepeatVector(28)(encoded)\n",
        "decoded = LSTM(64, activation='relu', return_sequences=True)(decoded)\n",
        "decoded = TimeDistributed(keras.layers.Dense(28, activation='sigmoid'))(decoded)\n",
        "\n",
        "# Define the autoencoder model\n",
        "autoencoder = Model(inputs, decoded)\n",
        "autoencoder.compile(optimizer='adam', loss='binary_crossentropy')"
      ],
      "metadata": {
        "id": "9UfeB6hHNQHz"
      },
      "execution_count": 35,
      "outputs": []
    },
    {
      "cell_type": "code",
      "source": [
        "autoencoder.fit(x_train, x_train, epochs=10, batch_size=128, validation_data=(x_test, x_test))"
      ],
      "metadata": {
        "colab": {
          "base_uri": "https://localhost:8080/"
        },
        "id": "T-QkQS8-NSCT",
        "outputId": "86a430f7-e9f4-4112-faef-fef6f0cc7401"
      },
      "execution_count": 36,
      "outputs": [
        {
          "output_type": "stream",
          "name": "stdout",
          "text": [
            "Epoch 1/10\n",
            "469/469 [==============================] - 56s 110ms/step - loss: 0.2627 - val_loss: 0.1910\n",
            "Epoch 2/10\n",
            "469/469 [==============================] - 52s 110ms/step - loss: 0.1686 - val_loss: 0.1488\n",
            "Epoch 3/10\n",
            "469/469 [==============================] - 51s 110ms/step - loss: 0.1424 - val_loss: 0.1320\n",
            "Epoch 4/10\n",
            "469/469 [==============================] - 53s 112ms/step - loss: 0.1293 - val_loss: 0.1252\n",
            "Epoch 5/10\n",
            "469/469 [==============================] - 53s 114ms/step - loss: 0.1213 - val_loss: 0.1183\n",
            "Epoch 6/10\n",
            "469/469 [==============================] - 54s 114ms/step - loss: 0.1161 - val_loss: 0.1118\n",
            "Epoch 7/10\n",
            "469/469 [==============================] - 53s 112ms/step - loss: 0.1117 - val_loss: 0.1095\n",
            "Epoch 8/10\n",
            "469/469 [==============================] - 52s 111ms/step - loss: 0.1086 - val_loss: 0.1058\n",
            "Epoch 9/10\n",
            "469/469 [==============================] - 52s 111ms/step - loss: 0.1061 - val_loss: 0.1032\n",
            "Epoch 10/10\n",
            "469/469 [==============================] - 52s 111ms/step - loss: 0.1031 - val_loss: 0.1000\n"
          ]
        },
        {
          "output_type": "execute_result",
          "data": {
            "text/plain": [
              "<keras.callbacks.History at 0x7fa4fdfee8c0>"
            ]
          },
          "metadata": {},
          "execution_count": 36
        }
      ]
    },
    {
      "cell_type": "code",
      "source": [
        "decoded_imgs = autoencoder.predict(x_test)\n",
        "\n",
        "# Display the original and reconstructed images\n",
        "import matplotlib.pyplot as plt\n",
        "\n",
        "n = 10\n",
        "plt.figure(figsize=(20, 4))\n",
        "for i in range(n):\n",
        "    # Display original images\n",
        "    ax = plt.subplot(2, n, i + 1)\n",
        "    plt.imshow(x_test[i])\n",
        "    plt.gray()\n",
        "    ax.get_xaxis().set_visible(False)\n",
        "    ax.get_yaxis().set_visible(False)\n",
        "\n",
        "    # Display reconstructed images\n",
        "    ax = plt.subplot(2, n, i + 1 + n)\n",
        "    plt.imshow(decoded_imgs[i])\n",
        "    plt.gray()\n",
        "    ax.get_xaxis().set_visible(False)\n",
        "    ax.get_yaxis().set_visible(False)\n",
        "\n",
        "plt.show()"
      ],
      "metadata": {
        "colab": {
          "base_uri": "https://localhost:8080/",
          "height": 322
        },
        "id": "RqslNm-WNVLt",
        "outputId": "88c86def-b968-4481-d25d-3e7f4b7dd880"
      },
      "execution_count": 37,
      "outputs": [
        {
          "output_type": "stream",
          "name": "stdout",
          "text": [
            "313/313 [==============================] - 5s 14ms/step\n"
          ]
        },
        {
          "output_type": "display_data",
          "data": {
            "text/plain": [
              "<Figure size 2000x400 with 20 Axes>"
            ],
            "image/png": "[encoded data removed]"
          },
          "metadata": {}
        }
      ]
    },
    {
      "cell_type": "markdown",
      "source": [
        "##Sparse Encoder"
      ],
      "metadata": {
        "id": "Zu4dJ3mVn4d6"
      }
    },
    {
      "cell_type": "code",
      "source": [
        "import numpy as np\n",
        "from keras.layers import Input, Dense\n",
        "from keras.models import Model\n",
        "from keras.datasets import mnist\n",
        "from keras import regularizers\n",
        "\n",
        "# Load MNIST dataset\n",
        "(x_train, _), (x_test, _) = mnist.load_data()\n",
        "\n",
        "# Normalize pixel values to between 0 and 1\n",
        "x_train = x_train.astype('float32') / 255.\n",
        "x_test = x_test.astype('float32') / 255.\n",
        "\n",
        "# Flatten images into 1D arrays\n",
        "x_train = x_train.reshape((len(x_train), np.prod(x_train.shape[1:])))\n",
        "x_test = x_test.reshape((len(x_test), np.prod(x_test.shape[1:])))\n",
        "\n",
        "# Define the input shape\n",
        "input_shape = (784,)\n",
        "\n",
        "# Define the sparsity constraint (use 10% sparsity)\n",
        "rho = 0.1\n",
        "\n",
        "# Define the size of the encoded representation\n",
        "encoding_dim = 32\n",
        "\n",
        "# Define the input layer\n",
        "input_img = Input(shape=input_shape)\n",
        "\n",
        "# Define the encoded layer with sparsity constraint\n",
        "encoded = Dense(encoding_dim, activation='relu',\n",
        "                activity_regularizer=regularizers.l1(rho))(input_img)\n",
        "\n",
        "# Define the decoded layer\n",
        "decoded = Dense(784, activation='sigmoid')(encoded)\n",
        "\n",
        "# Define the autoencoder model\n",
        "autoencoder = Model(input_img, decoded)\n",
        "\n",
        "# Compile the model\n",
        "autoencoder.compile(optimizer='adam', loss='binary_crossentropy')\n",
        "\n",
        "# Train the model\n",
        "history = autoencoder.fit(x_train, x_train,\n",
        "                          epochs=50,\n",
        "                          batch_size=256,\n",
        "                          shuffle=True,\n",
        "                          validation_data=(x_test, x_test))\n",
        "\n",
        "# Use the trained autoencoder for compression and reconstruction\n",
        "encoded_imgs = autoencoder.predict(x_test)\n",
        "decoded_imgs = autoencoder.predict(x_test)\n",
        "\n",
        "# Display original images and reconstructed images\n",
        "import matplotlib.pyplot as plt\n",
        "\n",
        "n = 10  # Number of images to display\n",
        "plt.figure(figsize=(20, 4))\n",
        "for i in range(n):\n",
        "    # Display original images\n",
        "    ax = plt.subplot(2, n, i + 1)\n",
        "    plt.imshow(x_test[i].reshape(28, 28))\n",
        "    plt.gray()\n",
        "    ax.get_xaxis().set_visible(False)\n",
        "    ax.get_yaxis().set_visible(False)\n",
        "    \n",
        "    # Display reconstructed images\n",
        "    ax = plt.subplot(2, n, i + 1 + n)\n",
        "    plt.imshow(decoded_imgs[i].reshape(28, 28))\n",
        "    plt.gray()\n",
        "    ax.get_xaxis().set_visible(False)\n",
        "    ax.get_yaxis().set_visible(False)\n",
        "    \n",
        "plt.show()"
      ],
      "metadata": {
        "colab": {
          "base_uri": "https://localhost:8080/",
          "height": 1000
        },
        "id": "pCulr2OCn6bw",
        "outputId": "9e1919bb-7357-4e32-f870-d8d19ca3c465"
      },
      "execution_count": 38,
      "outputs": [
        {
          "output_type": "stream",
          "name": "stdout",
          "text": [
            "Epoch 1/50\n",
            "235/235 [==============================] - 4s 13ms/step - loss: 0.6615 - val_loss: 0.6155\n",
            "Epoch 2/50\n",
            "235/235 [==============================] - 3s 12ms/step - loss: 0.5832 - val_loss: 0.5535\n",
            "Epoch 3/50\n",
            "235/235 [==============================] - 4s 16ms/step - loss: 0.5275 - val_loss: 0.5038\n",
            "Epoch 4/50\n",
            "235/235 [==============================] - 3s 13ms/step - loss: 0.4827 - val_loss: 0.4638\n",
            "Epoch 5/50\n",
            "235/235 [==============================] - 3s 13ms/step - loss: 0.4466 - val_loss: 0.4314\n",
            "Epoch 6/50\n",
            "235/235 [==============================] - 3s 12ms/step - loss: 0.4174 - val_loss: 0.4050\n",
            "Epoch 7/50\n",
            "235/235 [==============================] - 4s 17ms/step - loss: 0.3935 - val_loss: 0.3834\n",
            "Epoch 8/50\n",
            "235/235 [==============================] - 3s 13ms/step - loss: 0.3739 - val_loss: 0.3656\n",
            "Epoch 9/50\n",
            "235/235 [==============================] - 3s 12ms/step - loss: 0.3577 - val_loss: 0.3508\n",
            "Epoch 10/50\n",
            "235/235 [==============================] - 3s 12ms/step - loss: 0.3442 - val_loss: 0.3385\n",
            "Epoch 11/50\n",
            "235/235 [==============================] - 4s 15ms/step - loss: 0.3329 - val_loss: 0.3281\n",
            "Epoch 12/50\n",
            "235/235 [==============================] - 3s 14ms/step - loss: 0.3234 - val_loss: 0.3194\n",
            "Epoch 13/50\n",
            "235/235 [==============================] - 3s 13ms/step - loss: 0.3154 - val_loss: 0.3120\n",
            "Epoch 14/50\n",
            "235/235 [==============================] - 3s 12ms/step - loss: 0.3086 - val_loss: 0.3056\n",
            "Epoch 15/50\n",
            "235/235 [==============================] - 4s 17ms/step - loss: 0.3027 - val_loss: 0.3002\n",
            "Epoch 16/50\n",
            "235/235 [==============================] - 3s 13ms/step - loss: 0.2977 - val_loss: 0.2955\n",
            "Epoch 17/50\n",
            "235/235 [==============================] - 3s 12ms/step - loss: 0.2934 - val_loss: 0.2915\n",
            "Epoch 18/50\n",
            "235/235 [==============================] - 3s 12ms/step - loss: 0.2897 - val_loss: 0.2880\n",
            "Epoch 19/50\n",
            "235/235 [==============================] - 4s 16ms/step - loss: 0.2865 - val_loss: 0.2850\n",
            "Epoch 20/50\n",
            "235/235 [==============================] - 3s 13ms/step - loss: 0.2836 - val_loss: 0.2823\n",
            "Epoch 21/50\n",
            "235/235 [==============================] - 3s 12ms/step - loss: 0.2812 - val_loss: 0.2800\n",
            "Epoch 22/50\n",
            "235/235 [==============================] - 3s 12ms/step - loss: 0.2790 - val_loss: 0.2780\n",
            "Epoch 23/50\n",
            "235/235 [==============================] - 3s 14ms/step - loss: 0.2772 - val_loss: 0.2762\n",
            "Epoch 24/50\n",
            "235/235 [==============================] - 4s 15ms/step - loss: 0.2755 - val_loss: 0.2746\n",
            "Epoch 25/50\n",
            "235/235 [==============================] - 3s 12ms/step - loss: 0.2741 - val_loss: 0.2733\n",
            "Epoch 26/50\n",
            "235/235 [==============================] - 3s 12ms/step - loss: 0.2728 - val_loss: 0.2721\n",
            "Epoch 27/50\n",
            "235/235 [==============================] - 3s 14ms/step - loss: 0.2717 - val_loss: 0.2710\n",
            "Epoch 28/50\n",
            "235/235 [==============================] - 4s 15ms/step - loss: 0.2707 - val_loss: 0.2700\n",
            "Epoch 29/50\n",
            "235/235 [==============================] - 3s 12ms/step - loss: 0.2698 - val_loss: 0.2692\n",
            "Epoch 30/50\n",
            "235/235 [==============================] - 3s 12ms/step - loss: 0.2690 - val_loss: 0.2685\n",
            "Epoch 31/50\n",
            "235/235 [==============================] - 3s 12ms/step - loss: 0.2683 - val_loss: 0.2678\n",
            "Epoch 32/50\n",
            "235/235 [==============================] - 4s 17ms/step - loss: 0.2677 - val_loss: 0.2672\n",
            "Epoch 33/50\n",
            "235/235 [==============================] - 3s 13ms/step - loss: 0.2672 - val_loss: 0.2667\n",
            "Epoch 34/50\n",
            "235/235 [==============================] - 3s 12ms/step - loss: 0.2667 - val_loss: 0.2663\n",
            "Epoch 35/50\n",
            "235/235 [==============================] - 3s 12ms/step - loss: 0.2663 - val_loss: 0.2658\n",
            "Epoch 36/50\n",
            "235/235 [==============================] - 4s 17ms/step - loss: 0.2659 - val_loss: 0.2655\n",
            "Epoch 37/50\n",
            "235/235 [==============================] - 3s 12ms/step - loss: 0.2656 - val_loss: 0.2652\n",
            "Epoch 38/50\n",
            "235/235 [==============================] - 3s 12ms/step - loss: 0.2653 - val_loss: 0.2649\n",
            "Epoch 39/50\n",
            "235/235 [==============================] - 3s 12ms/step - loss: 0.2650 - val_loss: 0.2646\n",
            "Epoch 40/50\n",
            "235/235 [==============================] - 4s 17ms/step - loss: 0.2648 - val_loss: 0.2644\n",
            "Epoch 41/50\n",
            "235/235 [==============================] - 3s 12ms/step - loss: 0.2645 - val_loss: 0.2642\n",
            "Epoch 42/50\n",
            "235/235 [==============================] - 3s 13ms/step - loss: 0.2644 - val_loss: 0.2640\n",
            "Epoch 43/50\n",
            "235/235 [==============================] - 3s 13ms/step - loss: 0.2642 - val_loss: 0.2638\n",
            "Epoch 44/50\n",
            "235/235 [==============================] - 4s 17ms/step - loss: 0.2640 - val_loss: 0.2637\n",
            "Epoch 45/50\n",
            "235/235 [==============================] - 3s 12ms/step - loss: 0.2639 - val_loss: 0.2636\n",
            "Epoch 46/50\n",
            "235/235 [==============================] - 3s 12ms/step - loss: 0.2638 - val_loss: 0.2635\n",
            "Epoch 47/50\n",
            "235/235 [==============================] - 3s 12ms/step - loss: 0.2637 - val_loss: 0.2634\n",
            "Epoch 48/50\n",
            "235/235 [==============================] - 4s 18ms/step - loss: 0.2636 - val_loss: 0.2633\n",
            "Epoch 49/50\n",
            "235/235 [==============================] - 3s 12ms/step - loss: 0.2635 - val_loss: 0.2632\n",
            "Epoch 50/50\n",
            "235/235 [==============================] - 3s 12ms/step - loss: 0.2634 - val_loss: 0.2631\n",
            "313/313 [==============================] - 1s 2ms/step\n",
            "313/313 [==============================] - 1s 2ms/step\n"
          ]
        },
        {
          "output_type": "display_data",
          "data": {
            "text/plain": [
              "<Figure size 2000x400 with 20 Axes>"
            ],
            "image/png": "[encoded data removed]"
          },
          "metadata": {}
        }
      ]
    },
    {
      "cell_type": "markdown",
      "source": [
        "##Autoencoders - Feature extraction"
      ],
      "metadata": {
        "id": "Xwp5h1x5ppkX"
      }
    },
    {
      "cell_type": "code",
      "source": [
        "import numpy as np\n",
        "import matplotlib.pyplot as plt\n",
        "from keras.datasets import mnist\n",
        "from keras.models import Model\n",
        "from keras.layers import Input, Dense\n",
        "\n",
        "# Load the MNIST dataset\n",
        "(x_train, _), (x_test, _) = mnist.load_data()\n",
        "\n",
        "# Normalize and flatten the images\n",
        "x_train = x_train.astype('float32') / 255.\n",
        "x_test = x_test.astype('float32') / 255.\n",
        "x_train = x_train.reshape((len(x_train), np.prod(x_train.shape[1:])))\n",
        "x_test = x_test.reshape((len(x_test), np.prod(x_test.shape[1:])))\n",
        "\n",
        "# Define the autoencoder architecture\n",
        "input_img = Input(shape=(784,))\n",
        "encoded = Dense(64, activation='relu')(input_img)\n",
        "decoded = Dense(784, activation='sigmoid')(encoded)\n",
        "\n",
        "# Create the autoencoder model\n",
        "autoencoder = Model(input_img, decoded)\n",
        "\n",
        "# Compile the model\n",
        "autoencoder.compile(optimizer='adam', loss='binary_crossentropy')\n",
        "\n",
        "# Train the autoencoder\n",
        "autoencoder.fit(x_train, x_train, epochs=50, batch_size=256, shuffle=True, validation_data=(x_test, x_test))\n",
        "\n",
        "# Extract the encoded features\n",
        "encoder = Model(input_img, encoded)\n",
        "encoded_imgs = encoder.predict(x_test)\n",
        "\n",
        "# Plot the encoded features\n",
        "n = 10  # Number of images to display\n",
        "plt.figure(figsize=(20, 4))\n",
        "for i in range(n):\n",
        "    # Display the original image\n",
        "    ax = plt.subplot(2, n, i + 1)\n",
        "    plt.imshow(x_test[i].reshape(28, 28))\n",
        "    plt.gray()\n",
        "    ax.get_xaxis().set_visible(False)\n",
        "    ax.get_yaxis().set_visible(False)\n",
        "\n",
        "    # Display the encoded feature vector\n",
        "    ax = plt.subplot(2, n, i + n + 1)\n",
        "    plt.imshow(encoded_imgs[i].reshape(8, 8))\n",
        "    plt.gray()\n",
        "    ax.get_xaxis().set_visible(False)\n",
        "    ax.get_yaxis().set_visible(False)\n",
        "plt.show()"
      ],
      "metadata": {
        "colab": {
          "base_uri": "https://localhost:8080/",
          "height": 1000
        },
        "id": "6S_kpZYZoJ40",
        "outputId": "e47985ce-b615-44f8-9325-5ea4a7dd4313"
      },
      "execution_count": 11,
      "outputs": [
        {
          "output_type": "stream",
          "name": "stdout",
          "text": [
            "Epoch 1/50\n",
            "235/235 [==============================] - 5s 17ms/step - loss: 0.2445 - val_loss: 0.1628\n",
            "Epoch 2/50\n",
            "235/235 [==============================] - 3s 14ms/step - loss: 0.1445 - val_loss: 0.1277\n",
            "Epoch 3/50\n",
            "235/235 [==============================] - 3s 13ms/step - loss: 0.1191 - val_loss: 0.1093\n",
            "Epoch 4/50\n",
            "235/235 [==============================] - 3s 13ms/step - loss: 0.1047 - val_loss: 0.0981\n",
            "Epoch 5/50\n",
            "235/235 [==============================] - 4s 19ms/step - loss: 0.0953 - val_loss: 0.0906\n",
            "Epoch 6/50\n",
            "235/235 [==============================] - 3s 14ms/step - loss: 0.0888 - val_loss: 0.0852\n",
            "Epoch 7/50\n",
            "235/235 [==============================] - 3s 13ms/step - loss: 0.0842 - val_loss: 0.0815\n",
            "Epoch 8/50\n",
            "235/235 [==============================] - 3s 13ms/step - loss: 0.0811 - val_loss: 0.0791\n",
            "Epoch 9/50\n",
            "235/235 [==============================] - 4s 18ms/step - loss: 0.0790 - val_loss: 0.0773\n",
            "Epoch 10/50\n",
            "235/235 [==============================] - 3s 13ms/step - loss: 0.0775 - val_loss: 0.0762\n",
            "Epoch 11/50\n",
            "235/235 [==============================] - 3s 13ms/step - loss: 0.0766 - val_loss: 0.0754\n",
            "Epoch 12/50\n",
            "235/235 [==============================] - 3s 13ms/step - loss: 0.0759 - val_loss: 0.0749\n",
            "Epoch 13/50\n",
            "235/235 [==============================] - 4s 18ms/step - loss: 0.0753 - val_loss: 0.0744\n",
            "Epoch 14/50\n",
            "235/235 [==============================] - 3s 13ms/step - loss: 0.0749 - val_loss: 0.0741\n",
            "Epoch 15/50\n",
            "235/235 [==============================] - 3s 13ms/step - loss: 0.0746 - val_loss: 0.0739\n",
            "Epoch 16/50\n",
            "235/235 [==============================] - 3s 14ms/step - loss: 0.0744 - val_loss: 0.0736\n",
            "Epoch 17/50\n",
            "235/235 [==============================] - 4s 16ms/step - loss: 0.0742 - val_loss: 0.0735\n",
            "Epoch 18/50\n",
            "235/235 [==============================] - 3s 13ms/step - loss: 0.0740 - val_loss: 0.0733\n",
            "Epoch 19/50\n",
            "235/235 [==============================] - 3s 13ms/step - loss: 0.0739 - val_loss: 0.0732\n",
            "Epoch 20/50\n",
            "235/235 [==============================] - 4s 16ms/step - loss: 0.0738 - val_loss: 0.0731\n",
            "Epoch 21/50\n",
            "235/235 [==============================] - 4s 15ms/step - loss: 0.0737 - val_loss: 0.0730\n",
            "Epoch 22/50\n",
            "235/235 [==============================] - 3s 13ms/step - loss: 0.0736 - val_loss: 0.0729\n",
            "Epoch 23/50\n",
            "235/235 [==============================] - 3s 13ms/step - loss: 0.0735 - val_loss: 0.0729\n",
            "Epoch 24/50\n",
            "235/235 [==============================] - 4s 17ms/step - loss: 0.0734 - val_loss: 0.0728\n",
            "Epoch 25/50\n",
            "235/235 [==============================] - 3s 14ms/step - loss: 0.0734 - val_loss: 0.0728\n",
            "Epoch 26/50\n",
            "235/235 [==============================] - 3s 13ms/step - loss: 0.0733 - val_loss: 0.0727\n",
            "Epoch 27/50\n",
            "235/235 [==============================] - 3s 13ms/step - loss: 0.0733 - val_loss: 0.0727\n",
            "Epoch 28/50\n",
            "235/235 [==============================] - 4s 19ms/step - loss: 0.0732 - val_loss: 0.0727\n",
            "Epoch 29/50\n",
            "235/235 [==============================] - 3s 13ms/step - loss: 0.0732 - val_loss: 0.0726\n",
            "Epoch 30/50\n",
            "235/235 [==============================] - 3s 13ms/step - loss: 0.0731 - val_loss: 0.0725\n",
            "Epoch 31/50\n",
            "235/235 [==============================] - 3s 13ms/step - loss: 0.0731 - val_loss: 0.0726\n",
            "Epoch 32/50\n",
            "235/235 [==============================] - 4s 18ms/step - loss: 0.0731 - val_loss: 0.0725\n",
            "Epoch 33/50\n",
            "235/235 [==============================] - 3s 13ms/step - loss: 0.0730 - val_loss: 0.0725\n",
            "Epoch 34/50\n",
            "235/235 [==============================] - 3s 13ms/step - loss: 0.0730 - val_loss: 0.0725\n",
            "Epoch 35/50\n",
            "235/235 [==============================] - 3s 13ms/step - loss: 0.0730 - val_loss: 0.0726\n",
            "Epoch 36/50\n",
            "235/235 [==============================] - 4s 18ms/step - loss: 0.0730 - val_loss: 0.0724\n",
            "Epoch 37/50\n",
            "235/235 [==============================] - 3s 13ms/step - loss: 0.0729 - val_loss: 0.0725\n",
            "Epoch 38/50\n",
            "235/235 [==============================] - 3s 13ms/step - loss: 0.0729 - val_loss: 0.0724\n",
            "Epoch 39/50\n",
            "235/235 [==============================] - 3s 13ms/step - loss: 0.0729 - val_loss: 0.0724\n",
            "Epoch 40/50\n",
            "235/235 [==============================] - 4s 17ms/step - loss: 0.0729 - val_loss: 0.0724\n",
            "Epoch 41/50\n",
            "235/235 [==============================] - 3s 13ms/step - loss: 0.0729 - val_loss: 0.0724\n",
            "Epoch 42/50\n",
            "235/235 [==============================] - 3s 13ms/step - loss: 0.0729 - val_loss: 0.0724\n",
            "Epoch 43/50\n",
            "235/235 [==============================] - 4s 15ms/step - loss: 0.0728 - val_loss: 0.0724\n",
            "Epoch 44/50\n",
            "235/235 [==============================] - 4s 16ms/step - loss: 0.0728 - val_loss: 0.0724\n",
            "Epoch 45/50\n",
            "235/235 [==============================] - 3s 13ms/step - loss: 0.0728 - val_loss: 0.0724\n",
            "Epoch 46/50\n",
            "235/235 [==============================] - 3s 13ms/step - loss: 0.0728 - val_loss: 0.0723\n",
            "Epoch 47/50\n",
            "235/235 [==============================] - 4s 15ms/step - loss: 0.0728 - val_loss: 0.0724\n",
            "Epoch 48/50\n",
            "235/235 [==============================] - 4s 15ms/step - loss: 0.0728 - val_loss: 0.0723\n",
            "Epoch 49/50\n",
            "235/235 [==============================] - 3s 14ms/step - loss: 0.0728 - val_loss: 0.0723\n",
            "Epoch 50/50\n",
            "235/235 [==============================] - 3s 14ms/step - loss: 0.0728 - val_loss: 0.0723\n",
            "313/313 [==============================] - 1s 2ms/step\n"
          ]
        },
        {
          "output_type": "display_data",
          "data": {
            "text/plain": [
              "<Figure size 2000x400 with 20 Axes>"
            ],
            "image/png": "[encoded data removed]"
          },
          "metadata": {}
        }
      ]
    },
    {
      "cell_type": "markdown",
      "source": [
        "##Autoencoders - Dimentionality reduction"
      ],
      "metadata": {
        "id": "JFOV97Onqam4"
      }
    },
    {
      "cell_type": "code",
      "source": [
        "import numpy as np\n",
        "import matplotlib.pyplot as plt\n",
        "from tensorflow import keras\n",
        "from tensorflow.keras.datasets import mnist\n",
        "\n",
        "# Load MNIST dataset\n",
        "(x_train, y_train), (x_test, y_test) = mnist.load_data()\n",
        "\n",
        "# Normalize pixel values to range [0, 1]\n",
        "x_train = x_train.astype('float32') / 255.\n",
        "x_test = x_test.astype('float32') / 255.\n",
        "\n",
        "# Flatten images to 784-dimensional vectors\n",
        "x_train_flat = x_train.reshape((len(x_train), np.prod(x_train.shape[1:])))\n",
        "x_test_flat = x_test.reshape((len(x_test), np.prod(x_test.shape[1:])))\n",
        "\n",
        "# Define autoencoder architecture\n",
        "input_dim = 784\n",
        "encoding_dim = 32\n",
        "\n",
        "input_layer = keras.Input(shape=(input_dim,))\n",
        "encoder = keras.layers.Dense(encoding_dim, activation='relu')(input_layer)\n",
        "decoder = keras.layers.Dense(input_dim, activation='sigmoid')(encoder)\n",
        "\n",
        "autoencoder = keras.models.Model(inputs=input_layer, outputs=decoder)\n",
        "\n",
        "# Compile autoencoder\n",
        "autoencoder.compile(optimizer='adam', loss='binary_crossentropy')\n",
        "\n",
        "# Train autoencoder\n",
        "history = autoencoder.fit(x_train_flat, x_train_flat,\n",
        "                          epochs=50,\n",
        "                          batch_size=256,\n",
        "                          shuffle=True,\n",
        "                          validation_data=(x_test_flat, x_test_flat))\n",
        "\n",
        "# Use encoder to encode input data into a lower-dimensional representation\n",
        "encoder_model = keras.models.Model(inputs=input_layer, outputs=encoder)\n",
        "encoded_data = encoder_model.predict(x_test_flat)\n",
        "\n",
        "# Plot encoded data in 2D using first two principal components\n",
        "from sklearn.decomposition import PCA\n",
        "\n",
        "pca = PCA(n_components=2)\n",
        "encoded_pca = pca.fit_transform(encoded_data)\n",
        "\n",
        "plt.scatter(encoded_pca[:, 0], encoded_pca[:, 1], c=y_test)\n",
        "plt.colorbar()\n",
        "plt.show()"
      ],
      "metadata": {
        "colab": {
          "base_uri": "https://localhost:8080/",
          "height": 1000
        },
        "id": "2rws_qtqptZU",
        "outputId": "b3696b27-7ac8-44cd-dcaa-91a8df6ad423"
      },
      "execution_count": 12,
      "outputs": [
        {
          "output_type": "stream",
          "name": "stdout",
          "text": [
            "Epoch 1/50\n",
            "235/235 [==============================] - 3s 12ms/step - loss: 0.2765 - val_loss: 0.1911\n",
            "Epoch 2/50\n",
            "235/235 [==============================] - 4s 16ms/step - loss: 0.1710 - val_loss: 0.1532\n",
            "Epoch 3/50\n",
            "235/235 [==============================] - 3s 12ms/step - loss: 0.1443 - val_loss: 0.1338\n",
            "Epoch 4/50\n",
            "235/235 [==============================] - 3s 11ms/step - loss: 0.1288 - val_loss: 0.1212\n",
            "Epoch 5/50\n",
            "235/235 [==============================] - 3s 12ms/step - loss: 0.1183 - val_loss: 0.1128\n",
            "Epoch 6/50\n",
            "235/235 [==============================] - 4s 17ms/step - loss: 0.1112 - val_loss: 0.1070\n",
            "Epoch 7/50\n",
            "235/235 [==============================] - 3s 11ms/step - loss: 0.1060 - val_loss: 0.1025\n",
            "Epoch 8/50\n",
            "235/235 [==============================] - 3s 11ms/step - loss: 0.1021 - val_loss: 0.0994\n",
            "Epoch 9/50\n",
            "235/235 [==============================] - 3s 12ms/step - loss: 0.0993 - val_loss: 0.0969\n",
            "Epoch 10/50\n",
            "235/235 [==============================] - 4s 16ms/step - loss: 0.0974 - val_loss: 0.0954\n",
            "Epoch 11/50\n",
            "235/235 [==============================] - 3s 13ms/step - loss: 0.0962 - val_loss: 0.0944\n",
            "Epoch 12/50\n",
            "235/235 [==============================] - 3s 12ms/step - loss: 0.0954 - val_loss: 0.0938\n",
            "Epoch 13/50\n",
            "235/235 [==============================] - 3s 12ms/step - loss: 0.0948 - val_loss: 0.0933\n",
            "Epoch 14/50\n",
            "235/235 [==============================] - 3s 14ms/step - loss: 0.0945 - val_loss: 0.0930\n",
            "Epoch 15/50\n",
            "235/235 [==============================] - 3s 14ms/step - loss: 0.0942 - val_loss: 0.0928\n",
            "Epoch 16/50\n",
            "235/235 [==============================] - 3s 12ms/step - loss: 0.0940 - val_loss: 0.0926\n",
            "Epoch 17/50\n",
            "235/235 [==============================] - 3s 12ms/step - loss: 0.0939 - val_loss: 0.0925\n",
            "Epoch 18/50\n",
            "235/235 [==============================] - 3s 12ms/step - loss: 0.0937 - val_loss: 0.0924\n",
            "Epoch 19/50\n",
            "235/235 [==============================] - 4s 16ms/step - loss: 0.0936 - val_loss: 0.0924\n",
            "Epoch 20/50\n",
            "235/235 [==============================] - 3s 12ms/step - loss: 0.0935 - val_loss: 0.0923\n",
            "Epoch 21/50\n",
            "235/235 [==============================] - 3s 12ms/step - loss: 0.0934 - val_loss: 0.0921\n",
            "Epoch 22/50\n",
            "235/235 [==============================] - 3s 12ms/step - loss: 0.0934 - val_loss: 0.0921\n",
            "Epoch 23/50\n",
            "235/235 [==============================] - 4s 17ms/step - loss: 0.0933 - val_loss: 0.0921\n",
            "Epoch 24/50\n",
            "235/235 [==============================] - 3s 11ms/step - loss: 0.0933 - val_loss: 0.0920\n",
            "Epoch 25/50\n",
            "235/235 [==============================] - 3s 12ms/step - loss: 0.0932 - val_loss: 0.0920\n",
            "Epoch 26/50\n",
            "235/235 [==============================] - 3s 12ms/step - loss: 0.0932 - val_loss: 0.0919\n",
            "Epoch 27/50\n",
            "235/235 [==============================] - 4s 16ms/step - loss: 0.0931 - val_loss: 0.0919\n",
            "Epoch 28/50\n",
            "235/235 [==============================] - 3s 12ms/step - loss: 0.0931 - val_loss: 0.0918\n",
            "Epoch 29/50\n",
            "235/235 [==============================] - 3s 12ms/step - loss: 0.0931 - val_loss: 0.0919\n",
            "Epoch 30/50\n",
            "235/235 [==============================] - 3s 11ms/step - loss: 0.0930 - val_loss: 0.0918\n",
            "Epoch 31/50\n",
            "235/235 [==============================] - 4s 15ms/step - loss: 0.0930 - val_loss: 0.0918\n",
            "Epoch 32/50\n",
            "235/235 [==============================] - 3s 14ms/step - loss: 0.0930 - val_loss: 0.0917\n",
            "Epoch 33/50\n",
            "235/235 [==============================] - 3s 12ms/step - loss: 0.0929 - val_loss: 0.0918\n",
            "Epoch 34/50\n",
            "235/235 [==============================] - 3s 12ms/step - loss: 0.0929 - val_loss: 0.0917\n",
            "Epoch 35/50\n",
            "235/235 [==============================] - 3s 12ms/step - loss: 0.0929 - val_loss: 0.0917\n",
            "Epoch 36/50\n",
            "235/235 [==============================] - 4s 16ms/step - loss: 0.0929 - val_loss: 0.0917\n",
            "Epoch 37/50\n",
            "235/235 [==============================] - 3s 12ms/step - loss: 0.0929 - val_loss: 0.0917\n",
            "Epoch 38/50\n",
            "235/235 [==============================] - 3s 11ms/step - loss: 0.0928 - val_loss: 0.0917\n",
            "Epoch 39/50\n",
            "235/235 [==============================] - 3s 11ms/step - loss: 0.0928 - val_loss: 0.0916\n",
            "Epoch 40/50\n",
            "235/235 [==============================] - 4s 16ms/step - loss: 0.0928 - val_loss: 0.0917\n",
            "Epoch 41/50\n",
            "235/235 [==============================] - 3s 12ms/step - loss: 0.0928 - val_loss: 0.0915\n",
            "Epoch 42/50\n",
            "235/235 [==============================] - 3s 12ms/step - loss: 0.0928 - val_loss: 0.0916\n",
            "Epoch 43/50\n",
            "235/235 [==============================] - 3s 12ms/step - loss: 0.0928 - val_loss: 0.0917\n",
            "Epoch 44/50\n",
            "235/235 [==============================] - 3s 14ms/step - loss: 0.0928 - val_loss: 0.0916\n",
            "Epoch 45/50\n",
            "235/235 [==============================] - 3s 13ms/step - loss: 0.0928 - val_loss: 0.0916\n",
            "Epoch 46/50\n",
            "235/235 [==============================] - 3s 12ms/step - loss: 0.0927 - val_loss: 0.0916\n",
            "Epoch 47/50\n",
            "235/235 [==============================] - 3s 11ms/step - loss: 0.0927 - val_loss: 0.0916\n",
            "Epoch 48/50\n",
            "235/235 [==============================] - 3s 12ms/step - loss: 0.0927 - val_loss: 0.0916\n",
            "Epoch 49/50\n",
            "235/235 [==============================] - 4s 16ms/step - loss: 0.0927 - val_loss: 0.0916\n",
            "Epoch 50/50\n",
            "235/235 [==============================] - 3s 12ms/step - loss: 0.0927 - val_loss: 0.0916\n",
            "313/313 [==============================] - 0s 1ms/step\n"
          ]
        },
        {
          "output_type": "display_data",
          "data": {
            "text/plain": [
              "<Figure size 640x480 with 2 Axes>"
            ],
            "image/png": "[encoded data removed]"
          },
          "metadata": {}
        }
      ]
    },
    {
      "cell_type": "markdown",
      "source": [
        "##Autoencoders - classification"
      ],
      "metadata": {
        "id": "lcHRn9Qur-00"
      }
    },
    {
      "cell_type": "code",
      "source": [
        "from keras.layers import Input, Dense\n",
        "from keras.models import Model\n",
        "\n",
        "# Load MNIST dataset\n",
        "from keras.datasets import mnist\n",
        "(x_train, y_train), (x_test, y_test) = mnist.load_data()\n",
        "\n",
        "# Normalize pixel values to range [0, 1]\n",
        "x_train = x_train.astype('float32') / 255.\n",
        "x_test = x_test.astype('float32') / 255.\n",
        "\n",
        "# Flatten images to 1D array\n",
        "input_dim = 784\n",
        "x_train = x_train.reshape(-1, input_dim)\n",
        "x_test = x_test.reshape(-1, input_dim)\n",
        "\n",
        "# Define autoencoder architecture\n",
        "encoding_dim = 32\n",
        "input_img = Input(shape=(input_dim,))\n",
        "encoded = Dense(encoding_dim, activation='relu')(input_img)\n",
        "decoded = Dense(input_dim, activation='sigmoid')(encoded)\n",
        "autoencoder = Model(input_img, decoded)\n",
        "\n",
        "# Compile autoencoder\n",
        "autoencoder.compile(optimizer='adam', loss='binary_crossentropy')\n",
        "\n",
        "# Train autoencoder\n",
        "autoencoder.fit(x_train, x_train,\n",
        "                epochs=50,\n",
        "                batch_size=256,\n",
        "                shuffle=True,\n",
        "                validation_data=(x_test, x_test))"
      ],
      "metadata": {
        "colab": {
          "base_uri": "https://localhost:8080/"
        },
        "id": "plW3hMbfq7BW",
        "outputId": "95f0db06-bc0e-4ea6-a273-07ff383902a0"
      },
      "execution_count": 13,
      "outputs": [
        {
          "output_type": "stream",
          "name": "stdout",
          "text": [
            "Epoch 1/50\n",
            "235/235 [==============================] - 4s 13ms/step - loss: 0.2778 - val_loss: 0.1898\n",
            "Epoch 2/50\n",
            "235/235 [==============================] - 3s 11ms/step - loss: 0.1697 - val_loss: 0.1523\n",
            "Epoch 3/50\n",
            "235/235 [==============================] - 3s 11ms/step - loss: 0.1436 - val_loss: 0.1334\n",
            "Epoch 4/50\n",
            "235/235 [==============================] - 3s 13ms/step - loss: 0.1282 - val_loss: 0.1211\n",
            "Epoch 5/50\n",
            "235/235 [==============================] - 3s 15ms/step - loss: 0.1179 - val_loss: 0.1125\n",
            "Epoch 6/50\n",
            "235/235 [==============================] - 3s 11ms/step - loss: 0.1107 - val_loss: 0.1065\n",
            "Epoch 7/50\n",
            "235/235 [==============================] - 3s 11ms/step - loss: 0.1055 - val_loss: 0.1023\n",
            "Epoch 8/50\n",
            "235/235 [==============================] - 3s 12ms/step - loss: 0.1018 - val_loss: 0.0991\n",
            "Epoch 9/50\n",
            "235/235 [==============================] - 4s 16ms/step - loss: 0.0992 - val_loss: 0.0969\n",
            "Epoch 10/50\n",
            "235/235 [==============================] - 5s 23ms/step - loss: 0.0974 - val_loss: 0.0955\n",
            "Epoch 11/50\n",
            "235/235 [==============================] - 4s 15ms/step - loss: 0.0962 - val_loss: 0.0945\n",
            "Epoch 12/50\n",
            "235/235 [==============================] - 4s 16ms/step - loss: 0.0954 - val_loss: 0.0938\n",
            "Epoch 13/50\n",
            "235/235 [==============================] - 5s 22ms/step - loss: 0.0949 - val_loss: 0.0934\n",
            "Epoch 14/50\n",
            "235/235 [==============================] - 5s 23ms/step - loss: 0.0945 - val_loss: 0.0932\n",
            "Epoch 15/50\n",
            "235/235 [==============================] - 3s 14ms/step - loss: 0.0942 - val_loss: 0.0928\n",
            "Epoch 16/50\n",
            "235/235 [==============================] - 3s 12ms/step - loss: 0.0940 - val_loss: 0.0926\n",
            "Epoch 17/50\n",
            "235/235 [==============================] - 3s 12ms/step - loss: 0.0938 - val_loss: 0.0925\n",
            "Epoch 18/50\n",
            "235/235 [==============================] - 3s 12ms/step - loss: 0.0937 - val_loss: 0.0923\n",
            "Epoch 19/50\n",
            "235/235 [==============================] - 4s 17ms/step - loss: 0.0936 - val_loss: 0.0923\n",
            "Epoch 20/50\n",
            "235/235 [==============================] - 3s 11ms/step - loss: 0.0935 - val_loss: 0.0922\n",
            "Epoch 21/50\n",
            "235/235 [==============================] - 3s 12ms/step - loss: 0.0934 - val_loss: 0.0921\n",
            "Epoch 22/50\n",
            "235/235 [==============================] - 3s 14ms/step - loss: 0.0933 - val_loss: 0.0920\n",
            "Epoch 23/50\n",
            "235/235 [==============================] - 4s 17ms/step - loss: 0.0932 - val_loss: 0.0921\n",
            "Epoch 24/50\n",
            "235/235 [==============================] - 3s 12ms/step - loss: 0.0932 - val_loss: 0.0919\n",
            "Epoch 25/50\n",
            "235/235 [==============================] - 3s 12ms/step - loss: 0.0931 - val_loss: 0.0919\n",
            "Epoch 26/50\n",
            "235/235 [==============================] - 3s 11ms/step - loss: 0.0931 - val_loss: 0.0919\n",
            "Epoch 27/50\n",
            "235/235 [==============================] - 3s 14ms/step - loss: 0.0930 - val_loss: 0.0918\n",
            "Epoch 28/50\n",
            "235/235 [==============================] - 3s 13ms/step - loss: 0.0930 - val_loss: 0.0919\n",
            "Epoch 29/50\n",
            "235/235 [==============================] - 3s 12ms/step - loss: 0.0930 - val_loss: 0.0918\n",
            "Epoch 30/50\n",
            "235/235 [==============================] - 3s 11ms/step - loss: 0.0929 - val_loss: 0.0918\n",
            "Epoch 31/50\n",
            "235/235 [==============================] - 3s 12ms/step - loss: 0.0929 - val_loss: 0.0917\n",
            "Epoch 32/50\n",
            "235/235 [==============================] - 4s 16ms/step - loss: 0.0929 - val_loss: 0.0917\n",
            "Epoch 33/50\n",
            "235/235 [==============================] - 3s 11ms/step - loss: 0.0929 - val_loss: 0.0917\n",
            "Epoch 34/50\n",
            "235/235 [==============================] - 3s 12ms/step - loss: 0.0928 - val_loss: 0.0917\n",
            "Epoch 35/50\n",
            "235/235 [==============================] - 3s 12ms/step - loss: 0.0928 - val_loss: 0.0916\n",
            "Epoch 36/50\n",
            "235/235 [==============================] - 4s 16ms/step - loss: 0.0928 - val_loss: 0.0917\n",
            "Epoch 37/50\n",
            "235/235 [==============================] - 3s 12ms/step - loss: 0.0928 - val_loss: 0.0916\n",
            "Epoch 38/50\n",
            "235/235 [==============================] - 3s 11ms/step - loss: 0.0928 - val_loss: 0.0917\n",
            "Epoch 39/50\n",
            "235/235 [==============================] - 3s 12ms/step - loss: 0.0927 - val_loss: 0.0916\n",
            "Epoch 40/50\n",
            "235/235 [==============================] - 3s 13ms/step - loss: 0.0927 - val_loss: 0.0916\n",
            "Epoch 41/50\n",
            "235/235 [==============================] - 3s 14ms/step - loss: 0.0927 - val_loss: 0.0916\n",
            "Epoch 42/50\n",
            "235/235 [==============================] - 3s 11ms/step - loss: 0.0927 - val_loss: 0.0915\n",
            "Epoch 43/50\n",
            "235/235 [==============================] - 3s 11ms/step - loss: 0.0927 - val_loss: 0.0916\n",
            "Epoch 44/50\n",
            "235/235 [==============================] - 3s 13ms/step - loss: 0.0927 - val_loss: 0.0915\n",
            "Epoch 45/50\n",
            "235/235 [==============================] - 4s 16ms/step - loss: 0.0927 - val_loss: 0.0915\n",
            "Epoch 46/50\n",
            "235/235 [==============================] - 3s 12ms/step - loss: 0.0926 - val_loss: 0.0916\n",
            "Epoch 47/50\n",
            "235/235 [==============================] - 3s 11ms/step - loss: 0.0926 - val_loss: 0.0915\n",
            "Epoch 48/50\n",
            "235/235 [==============================] - 3s 12ms/step - loss: 0.0926 - val_loss: 0.0915\n",
            "Epoch 49/50\n",
            "235/235 [==============================] - 4s 16ms/step - loss: 0.0926 - val_loss: 0.0915\n",
            "Epoch 50/50\n",
            "235/235 [==============================] - 4s 15ms/step - loss: 0.0926 - val_loss: 0.0915\n"
          ]
        },
        {
          "output_type": "execute_result",
          "data": {
            "text/plain": [
              "<keras.callbacks.History at 0x7fa4ea7adfc0>"
            ]
          },
          "metadata": {},
          "execution_count": 13
        }
      ]
    },
    {
      "cell_type": "code",
      "source": [
        "# Extract compressed representations of MNIST images\n",
        "encoder = Model(input_img, encoded)\n",
        "x_train_encoded = encoder.predict(x_train)\n",
        "x_test_encoded = encoder.predict(x_test)\n",
        "\n",
        "# Define feedforward classifier\n",
        "clf_input_dim = encoding_dim\n",
        "clf_output_dim = 10\n",
        "clf_input = Input(shape=(clf_input_dim,))\n",
        "clf_output = Dense(clf_output_dim, activation='softmax')(clf_input)\n",
        "classifier = Model(clf_input, clf_output)\n",
        "\n",
        "# Compile classifier\n",
        "classifier.compile(optimizer='adam', loss='categorical_crossentropy', metrics=['accuracy'])\n",
        "\n",
        "# Train classifier\n",
        "from keras.utils import to_categorical\n",
        "y_train_categorical = to_categorical(y_train, num_classes=clf_output_dim)\n",
        "y_test_categorical = to_categorical(y_test, num_classes=clf_output_dim)\n",
        "classifier.fit(x_train_encoded, y_train_categorical,\n",
        "               epochs=50,\n",
        "               batch_size=256,\n",
        "               shuffle=True,\n",
        "               validation_data=(x_test_encoded, y_test_categorical))\n"
      ],
      "metadata": {
        "colab": {
          "base_uri": "https://localhost:8080/"
        },
        "id": "XvaD1Gu5vIdH",
        "outputId": "7356cf23-eb57-4232-bdcb-0282761e9f59"
      },
      "execution_count": 14,
      "outputs": [
        {
          "output_type": "stream",
          "name": "stdout",
          "text": [
            "1875/1875 [==============================] - 3s 1ms/step\n",
            "313/313 [==============================] - 0s 1ms/step\n",
            "Epoch 1/50\n",
            "235/235 [==============================] - 1s 3ms/step - loss: 4.9830 - accuracy: 0.2230 - val_loss: 2.7387 - val_accuracy: 0.4077\n",
            "Epoch 2/50\n",
            "235/235 [==============================] - 1s 2ms/step - loss: 1.8983 - accuracy: 0.5324 - val_loss: 1.3369 - val_accuracy: 0.6283\n",
            "Epoch 3/50\n",
            "235/235 [==============================] - 1s 2ms/step - loss: 1.0549 - accuracy: 0.6903 - val_loss: 0.8236 - val_accuracy: 0.7440\n",
            "Epoch 4/50\n",
            "235/235 [==============================] - 1s 3ms/step - loss: 0.7276 - accuracy: 0.7753 - val_loss: 0.6121 - val_accuracy: 0.8082\n",
            "Epoch 5/50\n",
            "235/235 [==============================] - 1s 2ms/step - loss: 0.5796 - accuracy: 0.8221 - val_loss: 0.5131 - val_accuracy: 0.8415\n",
            "Epoch 6/50\n",
            "235/235 [==============================] - 1s 2ms/step - loss: 0.5008 - accuracy: 0.8480 - val_loss: 0.4534 - val_accuracy: 0.8616\n",
            "Epoch 7/50\n",
            "235/235 [==============================] - 0s 2ms/step - loss: 0.4561 - accuracy: 0.8632 - val_loss: 0.4242 - val_accuracy: 0.8723\n",
            "Epoch 8/50\n",
            "235/235 [==============================] - 1s 2ms/step - loss: 0.4275 - accuracy: 0.8732 - val_loss: 0.3983 - val_accuracy: 0.8810\n",
            "Epoch 9/50\n",
            "235/235 [==============================] - 1s 2ms/step - loss: 0.4093 - accuracy: 0.8789 - val_loss: 0.3854 - val_accuracy: 0.8858\n",
            "Epoch 10/50\n",
            "235/235 [==============================] - 1s 2ms/step - loss: 0.3961 - accuracy: 0.8831 - val_loss: 0.3789 - val_accuracy: 0.8891\n",
            "Epoch 11/50\n",
            "235/235 [==============================] - 1s 4ms/step - loss: 0.3871 - accuracy: 0.8864 - val_loss: 0.3695 - val_accuracy: 0.8927\n",
            "Epoch 12/50\n",
            "235/235 [==============================] - 1s 3ms/step - loss: 0.3805 - accuracy: 0.8878 - val_loss: 0.3646 - val_accuracy: 0.8939\n",
            "Epoch 13/50\n",
            "235/235 [==============================] - 1s 4ms/step - loss: 0.3763 - accuracy: 0.8894 - val_loss: 0.3586 - val_accuracy: 0.8926\n",
            "Epoch 14/50\n",
            "235/235 [==============================] - 1s 2ms/step - loss: 0.3726 - accuracy: 0.8894 - val_loss: 0.3575 - val_accuracy: 0.8952\n",
            "Epoch 15/50\n",
            "235/235 [==============================] - 1s 2ms/step - loss: 0.3698 - accuracy: 0.8905 - val_loss: 0.3547 - val_accuracy: 0.8939\n",
            "Epoch 16/50\n",
            "235/235 [==============================] - 1s 2ms/step - loss: 0.3675 - accuracy: 0.8918 - val_loss: 0.3541 - val_accuracy: 0.8945\n",
            "Epoch 17/50\n",
            "235/235 [==============================] - 0s 2ms/step - loss: 0.3669 - accuracy: 0.8915 - val_loss: 0.3516 - val_accuracy: 0.8945\n",
            "Epoch 18/50\n",
            "235/235 [==============================] - 1s 2ms/step - loss: 0.3654 - accuracy: 0.8924 - val_loss: 0.3537 - val_accuracy: 0.8956\n",
            "Epoch 19/50\n",
            "235/235 [==============================] - 1s 2ms/step - loss: 0.3654 - accuracy: 0.8924 - val_loss: 0.3559 - val_accuracy: 0.8951\n",
            "Epoch 20/50\n",
            "235/235 [==============================] - 1s 2ms/step - loss: 0.3634 - accuracy: 0.8929 - val_loss: 0.3515 - val_accuracy: 0.8964\n",
            "Epoch 21/50\n",
            "235/235 [==============================] - 1s 2ms/step - loss: 0.3639 - accuracy: 0.8925 - val_loss: 0.3490 - val_accuracy: 0.8956\n",
            "Epoch 22/50\n",
            "235/235 [==============================] - 1s 2ms/step - loss: 0.3629 - accuracy: 0.8919 - val_loss: 0.3496 - val_accuracy: 0.8957\n",
            "Epoch 23/50\n",
            "235/235 [==============================] - 0s 2ms/step - loss: 0.3625 - accuracy: 0.8928 - val_loss: 0.3494 - val_accuracy: 0.8961\n",
            "Epoch 24/50\n",
            "235/235 [==============================] - 0s 2ms/step - loss: 0.3621 - accuracy: 0.8934 - val_loss: 0.3479 - val_accuracy: 0.8966\n",
            "Epoch 25/50\n",
            "235/235 [==============================] - 1s 2ms/step - loss: 0.3614 - accuracy: 0.8935 - val_loss: 0.3505 - val_accuracy: 0.8967\n",
            "Epoch 26/50\n",
            "235/235 [==============================] - 0s 2ms/step - loss: 0.3620 - accuracy: 0.8932 - val_loss: 0.3510 - val_accuracy: 0.8959\n",
            "Epoch 27/50\n",
            "235/235 [==============================] - 0s 2ms/step - loss: 0.3617 - accuracy: 0.8924 - val_loss: 0.3505 - val_accuracy: 0.8978\n",
            "Epoch 28/50\n",
            "235/235 [==============================] - 1s 2ms/step - loss: 0.3616 - accuracy: 0.8935 - val_loss: 0.3525 - val_accuracy: 0.8957\n",
            "Epoch 29/50\n",
            "235/235 [==============================] - 0s 2ms/step - loss: 0.3611 - accuracy: 0.8938 - val_loss: 0.3483 - val_accuracy: 0.8975\n",
            "Epoch 30/50\n",
            "235/235 [==============================] - 1s 2ms/step - loss: 0.3613 - accuracy: 0.8937 - val_loss: 0.3522 - val_accuracy: 0.8943\n",
            "Epoch 31/50\n",
            "235/235 [==============================] - 0s 2ms/step - loss: 0.3614 - accuracy: 0.8935 - val_loss: 0.3466 - val_accuracy: 0.8973\n",
            "Epoch 32/50\n",
            "235/235 [==============================] - 0s 2ms/step - loss: 0.3607 - accuracy: 0.8939 - val_loss: 0.3545 - val_accuracy: 0.8960\n",
            "Epoch 33/50\n",
            "235/235 [==============================] - 1s 2ms/step - loss: 0.3607 - accuracy: 0.8941 - val_loss: 0.3491 - val_accuracy: 0.8973\n",
            "Epoch 34/50\n",
            "235/235 [==============================] - 1s 3ms/step - loss: 0.3607 - accuracy: 0.8939 - val_loss: 0.3595 - val_accuracy: 0.8964\n",
            "Epoch 35/50\n",
            "235/235 [==============================] - 1s 3ms/step - loss: 0.3610 - accuracy: 0.8935 - val_loss: 0.3496 - val_accuracy: 0.8968\n",
            "Epoch 36/50\n",
            "235/235 [==============================] - 1s 3ms/step - loss: 0.3610 - accuracy: 0.8935 - val_loss: 0.3502 - val_accuracy: 0.8949\n",
            "Epoch 37/50\n",
            "235/235 [==============================] - 1s 3ms/step - loss: 0.3603 - accuracy: 0.8941 - val_loss: 0.3476 - val_accuracy: 0.8961\n",
            "Epoch 38/50\n",
            "235/235 [==============================] - 1s 2ms/step - loss: 0.3601 - accuracy: 0.8942 - val_loss: 0.3474 - val_accuracy: 0.8953\n",
            "Epoch 39/50\n",
            "235/235 [==============================] - 0s 2ms/step - loss: 0.3597 - accuracy: 0.8938 - val_loss: 0.3488 - val_accuracy: 0.8972\n",
            "Epoch 40/50\n",
            "235/235 [==============================] - 0s 2ms/step - loss: 0.3603 - accuracy: 0.8936 - val_loss: 0.3497 - val_accuracy: 0.8990\n",
            "Epoch 41/50\n",
            "235/235 [==============================] - 1s 2ms/step - loss: 0.3594 - accuracy: 0.8937 - val_loss: 0.3479 - val_accuracy: 0.8963\n",
            "Epoch 42/50\n",
            "235/235 [==============================] - 0s 2ms/step - loss: 0.3604 - accuracy: 0.8937 - val_loss: 0.3507 - val_accuracy: 0.8944\n",
            "Epoch 43/50\n",
            "235/235 [==============================] - 0s 2ms/step - loss: 0.3609 - accuracy: 0.8947 - val_loss: 0.3526 - val_accuracy: 0.8971\n",
            "Epoch 44/50\n",
            "235/235 [==============================] - 0s 2ms/step - loss: 0.3606 - accuracy: 0.8941 - val_loss: 0.3478 - val_accuracy: 0.8955\n",
            "Epoch 45/50\n",
            "235/235 [==============================] - 0s 2ms/step - loss: 0.3600 - accuracy: 0.8947 - val_loss: 0.3475 - val_accuracy: 0.8968\n",
            "Epoch 46/50\n",
            "235/235 [==============================] - 0s 2ms/step - loss: 0.3599 - accuracy: 0.8936 - val_loss: 0.3493 - val_accuracy: 0.8965\n",
            "Epoch 47/50\n",
            "235/235 [==============================] - 1s 2ms/step - loss: 0.3594 - accuracy: 0.8942 - val_loss: 0.3481 - val_accuracy: 0.8975\n",
            "Epoch 48/50\n",
            "235/235 [==============================] - 0s 2ms/step - loss: 0.3595 - accuracy: 0.8947 - val_loss: 0.3457 - val_accuracy: 0.8970\n",
            "Epoch 49/50\n",
            "235/235 [==============================] - 1s 2ms/step - loss: 0.3589 - accuracy: 0.8949 - val_loss: 0.3495 - val_accuracy: 0.8960\n",
            "Epoch 50/50\n",
            "235/235 [==============================] - 1s 2ms/step - loss: 0.3609 - accuracy: 0.8937 - val_loss: 0.3516 - val_accuracy: 0.8958\n"
          ]
        },
        {
          "output_type": "execute_result",
          "data": {
            "text/plain": [
              "<keras.callbacks.History at 0x7fa4e9f1bdc0>"
            ]
          },
          "metadata": {},
          "execution_count": 14
        }
      ]
    },
    {
      "cell_type": "markdown",
      "source": [
        "##Autoencoder - Anomoly detection"
      ],
      "metadata": {
        "id": "o92jEp98waay"
      }
    },
    {
      "cell_type": "code",
      "source": [
        "import numpy as np\n",
        "import matplotlib.pyplot as plt\n",
        "from tensorflow import keras\n",
        "\n",
        "# Load the MNIST dataset\n",
        "(x_train, y_train), (x_test, y_test) = keras.datasets.mnist.load_data()\n",
        "\n",
        "# Normalize the data\n",
        "x_train = x_train / 255.0\n",
        "x_test = x_test / 255.0\n",
        "\n",
        "# Flatten the data\n",
        "x_train = x_train.reshape((len(x_train), np.prod(x_train.shape[1:])))\n",
        "x_test = x_test.reshape((len(x_test), np.prod(x_test.shape[1:])))\n",
        "\n",
        "# Define the architecture of the autoencoder\n",
        "input_dim = x_train.shape[1]\n",
        "encoding_dim = 32\n",
        "\n",
        "input_layer = keras.layers.Input(shape=(input_dim,))\n",
        "encoder = keras.layers.Dense(encoding_dim, activation='relu')(input_layer)\n",
        "decoder = keras.layers.Dense(input_dim, activation='sigmoid')(encoder)\n",
        "\n",
        "autoencoder = keras.models.Model(inputs=input_layer, outputs=decoder)\n",
        "\n",
        "# Compile the autoencoder\n",
        "autoencoder.compile(optimizer='adam', loss='binary_crossentropy')\n",
        "\n",
        "# Train the autoencoder on normal data\n",
        "autoencoder.fit(x_train, x_train, epochs=50, batch_size=256, shuffle=True, validation_data=(x_test, x_test))\n",
        "\n",
        "# Use the trained autoencoder to reconstruct new data points\n",
        "decoded_imgs = autoencoder.predict(x_test)\n",
        "\n",
        "# Calculate the mean squared error (MSE) between the original and reconstructed data points\n",
        "mse = np.mean(np.power(x_test - decoded_imgs, 2), axis=1)\n",
        "\n",
        "# Plot the reconstruction error distribution\n",
        "plt.hist(mse, bins=50)\n",
        "plt.xlabel('Reconstruction Error')\n",
        "plt.ylabel('Frequency')\n",
        "plt.show()\n",
        "\n",
        "# Set a threshold for anomaly detection\n",
        "threshold = np.max(mse)\n",
        "\n",
        "# Find the indices of the anomalous data points\n",
        "anomalies = np.where(mse > threshold)[0]\n",
        "\n",
        "# Plot the anomalous data points\n",
        "n = min(len(anomalies), 10)\n",
        "plt.figure(figsize=(20, 4))\n",
        "for i in range(n):\n",
        "    ax = plt.subplot(2, n, i + 1)\n",
        "    plt.imshow(x_test[anomalies[i]].reshape(28, 28))\n",
        "    plt.gray()\n",
        "    ax.get_xaxis().set_visible(False)\n",
        "    ax.get_yaxis().set_visible(False)\n",
        "\n",
        "    ax = plt.subplot(2, n, i + 1 + n)\n",
        "    plt.imshow(decoded_imgs[anomalies[i]].reshape(28, 28))\n",
        "    plt.gray()\n",
        "    ax.get_xaxis().set_visible(False)\n",
        "    ax.get_yaxis().set_visible(False)\n",
        "\n",
        "plt.show()"
      ],
      "metadata": {
        "colab": {
          "base_uri": "https://localhost:8080/",
          "height": 1000
        },
        "id": "yIqvrm1rwdZ9",
        "outputId": "9da3d736-bca3-40d4-ae0f-08c792071569"
      },
      "execution_count": 15,
      "outputs": [
        {
          "output_type": "stream",
          "name": "stdout",
          "text": [
            "Epoch 1/50\n",
            "235/235 [==============================] - 5s 18ms/step - loss: 0.2782 - val_loss: 0.1923\n",
            "Epoch 2/50\n",
            "235/235 [==============================] - 3s 11ms/step - loss: 0.1722 - val_loss: 0.1543\n",
            "Epoch 3/50\n",
            "235/235 [==============================] - 3s 11ms/step - loss: 0.1453 - val_loss: 0.1349\n",
            "Epoch 4/50\n",
            "235/235 [==============================] - 3s 11ms/step - loss: 0.1293 - val_loss: 0.1220\n",
            "Epoch 5/50\n",
            "235/235 [==============================] - 3s 13ms/step - loss: 0.1186 - val_loss: 0.1130\n",
            "Epoch 6/50\n",
            "235/235 [==============================] - 3s 14ms/step - loss: 0.1111 - val_loss: 0.1070\n",
            "Epoch 7/50\n",
            "235/235 [==============================] - 3s 11ms/step - loss: 0.1060 - val_loss: 0.1026\n",
            "Epoch 8/50\n",
            "235/235 [==============================] - 3s 11ms/step - loss: 0.1023 - val_loss: 0.0995\n",
            "Epoch 9/50\n",
            "235/235 [==============================] - 3s 12ms/step - loss: 0.0995 - val_loss: 0.0974\n",
            "Epoch 10/50\n",
            "235/235 [==============================] - 4s 16ms/step - loss: 0.0976 - val_loss: 0.0956\n",
            "Epoch 11/50\n",
            "235/235 [==============================] - 3s 12ms/step - loss: 0.0962 - val_loss: 0.0945\n",
            "Epoch 12/50\n",
            "235/235 [==============================] - 3s 12ms/step - loss: 0.0953 - val_loss: 0.0937\n",
            "Epoch 13/50\n",
            "235/235 [==============================] - 3s 11ms/step - loss: 0.0947 - val_loss: 0.0932\n",
            "Epoch 14/50\n",
            "235/235 [==============================] - 4s 16ms/step - loss: 0.0943 - val_loss: 0.0929\n",
            "Epoch 15/50\n",
            "235/235 [==============================] - 3s 12ms/step - loss: 0.0940 - val_loss: 0.0926\n",
            "Epoch 16/50\n",
            "235/235 [==============================] - 3s 11ms/step - loss: 0.0938 - val_loss: 0.0925\n",
            "Epoch 17/50\n",
            "235/235 [==============================] - 3s 11ms/step - loss: 0.0937 - val_loss: 0.0923\n",
            "Epoch 18/50\n",
            "235/235 [==============================] - 3s 14ms/step - loss: 0.0935 - val_loss: 0.0922\n",
            "Epoch 19/50\n",
            "235/235 [==============================] - 3s 14ms/step - loss: 0.0934 - val_loss: 0.0921\n",
            "Epoch 20/50\n",
            "235/235 [==============================] - 3s 12ms/step - loss: 0.0933 - val_loss: 0.0920\n",
            "Epoch 21/50\n",
            "235/235 [==============================] - 3s 12ms/step - loss: 0.0932 - val_loss: 0.0920\n",
            "Epoch 22/50\n",
            "235/235 [==============================] - 3s 11ms/step - loss: 0.0932 - val_loss: 0.0919\n",
            "Epoch 23/50\n",
            "235/235 [==============================] - 4s 16ms/step - loss: 0.0931 - val_loss: 0.0919\n",
            "Epoch 24/50\n",
            "235/235 [==============================] - 3s 12ms/step - loss: 0.0931 - val_loss: 0.0919\n",
            "Epoch 25/50\n",
            "235/235 [==============================] - 3s 12ms/step - loss: 0.0930 - val_loss: 0.0919\n",
            "Epoch 26/50\n",
            "235/235 [==============================] - 3s 11ms/step - loss: 0.0930 - val_loss: 0.0917\n",
            "Epoch 27/50\n",
            "235/235 [==============================] - 4s 15ms/step - loss: 0.0929 - val_loss: 0.0917\n",
            "Epoch 28/50\n",
            "235/235 [==============================] - 3s 12ms/step - loss: 0.0929 - val_loss: 0.0917\n",
            "Epoch 29/50\n",
            "235/235 [==============================] - 3s 11ms/step - loss: 0.0929 - val_loss: 0.0918\n",
            "Epoch 30/50\n",
            "235/235 [==============================] - 3s 11ms/step - loss: 0.0928 - val_loss: 0.0917\n",
            "Epoch 31/50\n",
            "235/235 [==============================] - 3s 13ms/step - loss: 0.0928 - val_loss: 0.0917\n",
            "Epoch 32/50\n",
            "235/235 [==============================] - 4s 15ms/step - loss: 0.0928 - val_loss: 0.0916\n",
            "Epoch 33/50\n",
            "235/235 [==============================] - 3s 12ms/step - loss: 0.0928 - val_loss: 0.0916\n",
            "Epoch 34/50\n",
            "235/235 [==============================] - 3s 12ms/step - loss: 0.0928 - val_loss: 0.0916\n",
            "Epoch 35/50\n",
            "235/235 [==============================] - 3s 11ms/step - loss: 0.0927 - val_loss: 0.0916\n",
            "Epoch 36/50\n",
            "235/235 [==============================] - 4s 17ms/step - loss: 0.0927 - val_loss: 0.0917\n",
            "Epoch 37/50\n",
            "235/235 [==============================] - 3s 12ms/step - loss: 0.0927 - val_loss: 0.0915\n",
            "Epoch 38/50\n",
            "235/235 [==============================] - 3s 12ms/step - loss: 0.0927 - val_loss: 0.0915\n",
            "Epoch 39/50\n",
            "235/235 [==============================] - 3s 11ms/step - loss: 0.0927 - val_loss: 0.0915\n",
            "Epoch 40/50\n",
            "235/235 [==============================] - 4s 16ms/step - loss: 0.0927 - val_loss: 0.0915\n",
            "Epoch 41/50\n",
            "235/235 [==============================] - 3s 12ms/step - loss: 0.0926 - val_loss: 0.0915\n",
            "Epoch 42/50\n",
            "235/235 [==============================] - 3s 12ms/step - loss: 0.0926 - val_loss: 0.0915\n",
            "Epoch 43/50\n",
            "235/235 [==============================] - 3s 11ms/step - loss: 0.0926 - val_loss: 0.0915\n",
            "Epoch 44/50\n",
            "235/235 [==============================] - 3s 14ms/step - loss: 0.0926 - val_loss: 0.0914\n",
            "Epoch 45/50\n",
            "235/235 [==============================] - 3s 14ms/step - loss: 0.0926 - val_loss: 0.0915\n",
            "Epoch 46/50\n",
            "235/235 [==============================] - 3s 11ms/step - loss: 0.0926 - val_loss: 0.0915\n",
            "Epoch 47/50\n",
            "235/235 [==============================] - 3s 11ms/step - loss: 0.0926 - val_loss: 0.0914\n",
            "Epoch 48/50\n",
            "235/235 [==============================] - 3s 11ms/step - loss: 0.0926 - val_loss: 0.0914\n",
            "Epoch 49/50\n",
            "235/235 [==============================] - 4s 16ms/step - loss: 0.0926 - val_loss: 0.0914\n",
            "Epoch 50/50\n",
            "235/235 [==============================] - 3s 11ms/step - loss: 0.0925 - val_loss: 0.0914\n",
            "313/313 [==============================] - 1s 2ms/step\n"
          ]
        },
        {
          "output_type": "display_data",
          "data": {
            "text/plain": [
              "<Figure size 640x480 with 1 Axes>"
            ],
            "image/png": "[encoded data removed]"
          },
          "metadata": {}
        },
        {
          "output_type": "display_data",
          "data": {
            "text/plain": [
              "<Figure size 2000x400 with 0 Axes>"
            ]
          },
          "metadata": {}
        }
      ]
    },
    {
      "cell_type": "code",
      "source": [],
      "metadata": {
        "id": "WZYugd88weE9"
      },
      "execution_count": null,
      "outputs": []
    }
  ]
}